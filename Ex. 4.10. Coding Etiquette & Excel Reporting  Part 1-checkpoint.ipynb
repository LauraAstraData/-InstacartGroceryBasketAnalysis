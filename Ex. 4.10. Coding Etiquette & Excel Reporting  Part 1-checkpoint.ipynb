{
 "cells": [
  {
   "cell_type": "markdown",
   "id": "6649f49f",
   "metadata": {},
   "source": [
    "### Subtask 0 - Importing libraries"
   ]
  },
  {
   "cell_type": "code",
   "execution_count": 1,
   "id": "62d1b13b",
   "metadata": {},
   "outputs": [],
   "source": [
    "# import libraries\n",
    "import pandas as pd\n",
    "import numpy as np\n",
    "import os\n",
    "import matplotlib.pyplot as plt\n",
    "import seaborn as sns\n",
    "import scipy"
   ]
  },
  {
   "cell_type": "code",
   "execution_count": 2,
   "id": "24251c93",
   "metadata": {},
   "outputs": [],
   "source": [
    "path = r'C:\\Users\\laune\\OneDrive\\Desktop\\Data Analytics\\Full immersion course data analytics\\4\\E4.2_Laura Asara_04-21 - Instacart Grocery Basket Analysis'"
   ]
  },
  {
   "cell_type": "code",
   "execution_count": 3,
   "id": "17c98ee6",
   "metadata": {},
   "outputs": [
    {
     "data": {
      "text/plain": [
       "'C:\\\\Users\\\\laune\\\\OneDrive\\\\Desktop\\\\Data Analytics\\\\Full immersion course data analytics\\\\4\\\\E4.2_Laura Asara_04-21 - Instacart Grocery Basket Analysis'"
      ]
     },
     "execution_count": 3,
     "metadata": {},
     "output_type": "execute_result"
    }
   ],
   "source": [
    "path"
   ]
  },
  {
   "cell_type": "markdown",
   "id": "1d7744d7",
   "metadata": {},
   "source": [
    "### Subtask 1 - Importing Data Set from Ex. 4.9"
   ]
  },
  {
   "cell_type": "code",
   "execution_count": 4,
   "id": "fc5bb422",
   "metadata": {},
   "outputs": [],
   "source": [
    "# importing ords_prods_custmrs_merge3 from Ex. 4.9\n",
    "ords_prods_custmrs_merged = pd.read_csv(os.path.join(path, '4.2 - 02 Data', 'Prepared Data', 'ords_prods_custmrs_merge3.csv'))"
   ]
  },
  {
   "cell_type": "markdown",
   "id": "526285c4",
   "metadata": {},
   "source": [
    "### Subtask 2 - Considering Security Implications"
   ]
  },
  {
   "cell_type": "code",
   "execution_count": 6,
   "id": "d11ad353",
   "metadata": {},
   "outputs": [],
   "source": [
    "# Consider any security implications that might exist for this new data. You’ll need to address any PII data in the data before continuing your analysis"
   ]
  },
  {
   "cell_type": "markdown",
   "id": "76fcccf1",
   "metadata": {},
   "source": [
    "#### for the purpose of this project the personal data have been modified to not have any relation with real customers, but will address PII to the name and surname column"
   ]
  },
  {
   "cell_type": "code",
   "execution_count": 5,
   "id": "ed984a62",
   "metadata": {},
   "outputs": [
    {
     "data": {
      "text/html": [
       "<div>\n",
       "<style scoped>\n",
       "    .dataframe tbody tr th:only-of-type {\n",
       "        vertical-align: middle;\n",
       "    }\n",
       "\n",
       "    .dataframe tbody tr th {\n",
       "        vertical-align: top;\n",
       "    }\n",
       "\n",
       "    .dataframe thead th {\n",
       "        text-align: right;\n",
       "    }\n",
       "</style>\n",
       "<table border=\"1\" class=\"dataframe\">\n",
       "  <thead>\n",
       "    <tr style=\"text-align: right;\">\n",
       "      <th></th>\n",
       "      <th>Unnamed: 0</th>\n",
       "      <th>Unnamed: 0.1</th>\n",
       "      <th>Unnamed: 0.1.1</th>\n",
       "      <th>order_id</th>\n",
       "      <th>user_id</th>\n",
       "      <th>eval_set</th>\n",
       "      <th>order_number</th>\n",
       "      <th>order_dow</th>\n",
       "      <th>order_hour_of_day</th>\n",
       "      <th>days_since_prior_order</th>\n",
       "      <th>...</th>\n",
       "      <th>mean_days_since_prior_order</th>\n",
       "      <th>first_name</th>\n",
       "      <th>surname</th>\n",
       "      <th>Gender</th>\n",
       "      <th>state</th>\n",
       "      <th>age</th>\n",
       "      <th>date_joined</th>\n",
       "      <th>n_dependants</th>\n",
       "      <th>fam_status</th>\n",
       "      <th>income</th>\n",
       "    </tr>\n",
       "  </thead>\n",
       "  <tbody>\n",
       "    <tr>\n",
       "      <th>0</th>\n",
       "      <td>0</td>\n",
       "      <td>0</td>\n",
       "      <td>0</td>\n",
       "      <td>2539329</td>\n",
       "      <td>1</td>\n",
       "      <td>prior</td>\n",
       "      <td>1</td>\n",
       "      <td>2</td>\n",
       "      <td>8</td>\n",
       "      <td>NaN</td>\n",
       "      <td>...</td>\n",
       "      <td>20.259259</td>\n",
       "      <td>Linda</td>\n",
       "      <td>Nguyen</td>\n",
       "      <td>Female</td>\n",
       "      <td>Alabama</td>\n",
       "      <td>31</td>\n",
       "      <td>2/17/2019</td>\n",
       "      <td>3</td>\n",
       "      <td>married</td>\n",
       "      <td>40423</td>\n",
       "    </tr>\n",
       "    <tr>\n",
       "      <th>1</th>\n",
       "      <td>1</td>\n",
       "      <td>1</td>\n",
       "      <td>1</td>\n",
       "      <td>2398795</td>\n",
       "      <td>1</td>\n",
       "      <td>prior</td>\n",
       "      <td>2</td>\n",
       "      <td>3</td>\n",
       "      <td>7</td>\n",
       "      <td>15.0</td>\n",
       "      <td>...</td>\n",
       "      <td>20.259259</td>\n",
       "      <td>Linda</td>\n",
       "      <td>Nguyen</td>\n",
       "      <td>Female</td>\n",
       "      <td>Alabama</td>\n",
       "      <td>31</td>\n",
       "      <td>2/17/2019</td>\n",
       "      <td>3</td>\n",
       "      <td>married</td>\n",
       "      <td>40423</td>\n",
       "    </tr>\n",
       "    <tr>\n",
       "      <th>2</th>\n",
       "      <td>2</td>\n",
       "      <td>2</td>\n",
       "      <td>2</td>\n",
       "      <td>473747</td>\n",
       "      <td>1</td>\n",
       "      <td>prior</td>\n",
       "      <td>3</td>\n",
       "      <td>3</td>\n",
       "      <td>12</td>\n",
       "      <td>21.0</td>\n",
       "      <td>...</td>\n",
       "      <td>20.259259</td>\n",
       "      <td>Linda</td>\n",
       "      <td>Nguyen</td>\n",
       "      <td>Female</td>\n",
       "      <td>Alabama</td>\n",
       "      <td>31</td>\n",
       "      <td>2/17/2019</td>\n",
       "      <td>3</td>\n",
       "      <td>married</td>\n",
       "      <td>40423</td>\n",
       "    </tr>\n",
       "    <tr>\n",
       "      <th>3</th>\n",
       "      <td>3</td>\n",
       "      <td>3</td>\n",
       "      <td>3</td>\n",
       "      <td>2254736</td>\n",
       "      <td>1</td>\n",
       "      <td>prior</td>\n",
       "      <td>4</td>\n",
       "      <td>4</td>\n",
       "      <td>7</td>\n",
       "      <td>29.0</td>\n",
       "      <td>...</td>\n",
       "      <td>20.259259</td>\n",
       "      <td>Linda</td>\n",
       "      <td>Nguyen</td>\n",
       "      <td>Female</td>\n",
       "      <td>Alabama</td>\n",
       "      <td>31</td>\n",
       "      <td>2/17/2019</td>\n",
       "      <td>3</td>\n",
       "      <td>married</td>\n",
       "      <td>40423</td>\n",
       "    </tr>\n",
       "    <tr>\n",
       "      <th>4</th>\n",
       "      <td>4</td>\n",
       "      <td>4</td>\n",
       "      <td>4</td>\n",
       "      <td>431534</td>\n",
       "      <td>1</td>\n",
       "      <td>prior</td>\n",
       "      <td>5</td>\n",
       "      <td>4</td>\n",
       "      <td>15</td>\n",
       "      <td>28.0</td>\n",
       "      <td>...</td>\n",
       "      <td>20.259259</td>\n",
       "      <td>Linda</td>\n",
       "      <td>Nguyen</td>\n",
       "      <td>Female</td>\n",
       "      <td>Alabama</td>\n",
       "      <td>31</td>\n",
       "      <td>2/17/2019</td>\n",
       "      <td>3</td>\n",
       "      <td>married</td>\n",
       "      <td>40423</td>\n",
       "    </tr>\n",
       "  </tbody>\n",
       "</table>\n",
       "<p>5 rows × 32 columns</p>\n",
       "</div>"
      ],
      "text/plain": [
       "   Unnamed: 0  Unnamed: 0.1  Unnamed: 0.1.1  order_id  user_id eval_set  \\\n",
       "0           0             0               0   2539329        1    prior   \n",
       "1           1             1               1   2398795        1    prior   \n",
       "2           2             2               2    473747        1    prior   \n",
       "3           3             3               3   2254736        1    prior   \n",
       "4           4             4               4    431534        1    prior   \n",
       "\n",
       "   order_number  order_dow  order_hour_of_day  days_since_prior_order  ...  \\\n",
       "0             1          2                  8                     NaN  ...   \n",
       "1             2          3                  7                    15.0  ...   \n",
       "2             3          3                 12                    21.0  ...   \n",
       "3             4          4                  7                    29.0  ...   \n",
       "4             5          4                 15                    28.0  ...   \n",
       "\n",
       "   mean_days_since_prior_order  first_name  surname  Gender    state age  \\\n",
       "0                    20.259259       Linda   Nguyen  Female  Alabama  31   \n",
       "1                    20.259259       Linda   Nguyen  Female  Alabama  31   \n",
       "2                    20.259259       Linda   Nguyen  Female  Alabama  31   \n",
       "3                    20.259259       Linda   Nguyen  Female  Alabama  31   \n",
       "4                    20.259259       Linda   Nguyen  Female  Alabama  31   \n",
       "\n",
       "   date_joined  n_dependants  fam_status  income  \n",
       "0    2/17/2019             3     married   40423  \n",
       "1    2/17/2019             3     married   40423  \n",
       "2    2/17/2019             3     married   40423  \n",
       "3    2/17/2019             3     married   40423  \n",
       "4    2/17/2019             3     married   40423  \n",
       "\n",
       "[5 rows x 32 columns]"
      ]
     },
     "execution_count": 5,
     "metadata": {},
     "output_type": "execute_result"
    }
   ],
   "source": [
    "ords_prods_custmrs_merged.head()"
   ]
  },
  {
   "cell_type": "code",
   "execution_count": 6,
   "id": "1faf752b",
   "metadata": {},
   "outputs": [],
   "source": [
    "# dropping extra columns\n",
    "ords_prods_custmrs_merged = ords_prods_custmrs_merged.drop(columns = ['eval_set', 'Unnamed: 0', 'Unnamed: 0.1', 'Unnamed: 0.1.1'])"
   ]
  },
  {
   "cell_type": "code",
   "execution_count": 7,
   "id": "272797d4",
   "metadata": {},
   "outputs": [],
   "source": [
    "# dropping sensitive data 'surname' and 'first_name'\n",
    "ords_prods_custmrs_merged = ords_prods_custmrs_merged.drop(columns = ['surname', 'first_name'])"
   ]
  },
  {
   "cell_type": "code",
   "execution_count": 8,
   "id": "4fe4cfee",
   "metadata": {},
   "outputs": [
    {
     "data": {
      "text/html": [
       "<div>\n",
       "<style scoped>\n",
       "    .dataframe tbody tr th:only-of-type {\n",
       "        vertical-align: middle;\n",
       "    }\n",
       "\n",
       "    .dataframe tbody tr th {\n",
       "        vertical-align: top;\n",
       "    }\n",
       "\n",
       "    .dataframe thead th {\n",
       "        text-align: right;\n",
       "    }\n",
       "</style>\n",
       "<table border=\"1\" class=\"dataframe\">\n",
       "  <thead>\n",
       "    <tr style=\"text-align: right;\">\n",
       "      <th></th>\n",
       "      <th>order_id</th>\n",
       "      <th>user_id</th>\n",
       "      <th>order_number</th>\n",
       "      <th>order_dow</th>\n",
       "      <th>order_hour_of_day</th>\n",
       "      <th>days_since_prior_order</th>\n",
       "      <th>product_id</th>\n",
       "      <th>add_to_cart_order</th>\n",
       "      <th>reordered</th>\n",
       "      <th>_merge</th>\n",
       "      <th>...</th>\n",
       "      <th>loyalty_flag</th>\n",
       "      <th>mean_order</th>\n",
       "      <th>mean_days_since_prior_order</th>\n",
       "      <th>Gender</th>\n",
       "      <th>state</th>\n",
       "      <th>age</th>\n",
       "      <th>date_joined</th>\n",
       "      <th>n_dependants</th>\n",
       "      <th>fam_status</th>\n",
       "      <th>income</th>\n",
       "    </tr>\n",
       "  </thead>\n",
       "  <tbody>\n",
       "    <tr>\n",
       "      <th>0</th>\n",
       "      <td>2539329</td>\n",
       "      <td>1</td>\n",
       "      <td>1</td>\n",
       "      <td>2</td>\n",
       "      <td>8</td>\n",
       "      <td>NaN</td>\n",
       "      <td>196</td>\n",
       "      <td>1</td>\n",
       "      <td>0</td>\n",
       "      <td>both</td>\n",
       "      <td>...</td>\n",
       "      <td>Non-frequent customer</td>\n",
       "      <td>6.367797</td>\n",
       "      <td>20.259259</td>\n",
       "      <td>Female</td>\n",
       "      <td>Alabama</td>\n",
       "      <td>31</td>\n",
       "      <td>2/17/2019</td>\n",
       "      <td>3</td>\n",
       "      <td>married</td>\n",
       "      <td>40423</td>\n",
       "    </tr>\n",
       "    <tr>\n",
       "      <th>1</th>\n",
       "      <td>2398795</td>\n",
       "      <td>1</td>\n",
       "      <td>2</td>\n",
       "      <td>3</td>\n",
       "      <td>7</td>\n",
       "      <td>15.0</td>\n",
       "      <td>196</td>\n",
       "      <td>1</td>\n",
       "      <td>1</td>\n",
       "      <td>both</td>\n",
       "      <td>...</td>\n",
       "      <td>Non-frequent customer</td>\n",
       "      <td>6.367797</td>\n",
       "      <td>20.259259</td>\n",
       "      <td>Female</td>\n",
       "      <td>Alabama</td>\n",
       "      <td>31</td>\n",
       "      <td>2/17/2019</td>\n",
       "      <td>3</td>\n",
       "      <td>married</td>\n",
       "      <td>40423</td>\n",
       "    </tr>\n",
       "    <tr>\n",
       "      <th>2</th>\n",
       "      <td>473747</td>\n",
       "      <td>1</td>\n",
       "      <td>3</td>\n",
       "      <td>3</td>\n",
       "      <td>12</td>\n",
       "      <td>21.0</td>\n",
       "      <td>196</td>\n",
       "      <td>1</td>\n",
       "      <td>1</td>\n",
       "      <td>both</td>\n",
       "      <td>...</td>\n",
       "      <td>Non-frequent customer</td>\n",
       "      <td>6.367797</td>\n",
       "      <td>20.259259</td>\n",
       "      <td>Female</td>\n",
       "      <td>Alabama</td>\n",
       "      <td>31</td>\n",
       "      <td>2/17/2019</td>\n",
       "      <td>3</td>\n",
       "      <td>married</td>\n",
       "      <td>40423</td>\n",
       "    </tr>\n",
       "    <tr>\n",
       "      <th>3</th>\n",
       "      <td>2254736</td>\n",
       "      <td>1</td>\n",
       "      <td>4</td>\n",
       "      <td>4</td>\n",
       "      <td>7</td>\n",
       "      <td>29.0</td>\n",
       "      <td>196</td>\n",
       "      <td>1</td>\n",
       "      <td>1</td>\n",
       "      <td>both</td>\n",
       "      <td>...</td>\n",
       "      <td>Non-frequent customer</td>\n",
       "      <td>6.367797</td>\n",
       "      <td>20.259259</td>\n",
       "      <td>Female</td>\n",
       "      <td>Alabama</td>\n",
       "      <td>31</td>\n",
       "      <td>2/17/2019</td>\n",
       "      <td>3</td>\n",
       "      <td>married</td>\n",
       "      <td>40423</td>\n",
       "    </tr>\n",
       "    <tr>\n",
       "      <th>4</th>\n",
       "      <td>431534</td>\n",
       "      <td>1</td>\n",
       "      <td>5</td>\n",
       "      <td>4</td>\n",
       "      <td>15</td>\n",
       "      <td>28.0</td>\n",
       "      <td>196</td>\n",
       "      <td>1</td>\n",
       "      <td>1</td>\n",
       "      <td>both</td>\n",
       "      <td>...</td>\n",
       "      <td>Non-frequent customer</td>\n",
       "      <td>6.367797</td>\n",
       "      <td>20.259259</td>\n",
       "      <td>Female</td>\n",
       "      <td>Alabama</td>\n",
       "      <td>31</td>\n",
       "      <td>2/17/2019</td>\n",
       "      <td>3</td>\n",
       "      <td>married</td>\n",
       "      <td>40423</td>\n",
       "    </tr>\n",
       "  </tbody>\n",
       "</table>\n",
       "<p>5 rows × 26 columns</p>\n",
       "</div>"
      ],
      "text/plain": [
       "   order_id  user_id  order_number  order_dow  order_hour_of_day  \\\n",
       "0   2539329        1             1          2                  8   \n",
       "1   2398795        1             2          3                  7   \n",
       "2    473747        1             3          3                 12   \n",
       "3   2254736        1             4          4                  7   \n",
       "4    431534        1             5          4                 15   \n",
       "\n",
       "   days_since_prior_order  product_id  add_to_cart_order  reordered _merge  \\\n",
       "0                     NaN         196                  1          0   both   \n",
       "1                    15.0         196                  1          1   both   \n",
       "2                    21.0         196                  1          1   both   \n",
       "3                    29.0         196                  1          1   both   \n",
       "4                    28.0         196                  1          1   both   \n",
       "\n",
       "   ...           loyalty_flag mean_order  mean_days_since_prior_order  Gender  \\\n",
       "0  ...  Non-frequent customer   6.367797                    20.259259  Female   \n",
       "1  ...  Non-frequent customer   6.367797                    20.259259  Female   \n",
       "2  ...  Non-frequent customer   6.367797                    20.259259  Female   \n",
       "3  ...  Non-frequent customer   6.367797                    20.259259  Female   \n",
       "4  ...  Non-frequent customer   6.367797                    20.259259  Female   \n",
       "\n",
       "     state  age date_joined  n_dependants  fam_status income  \n",
       "0  Alabama   31   2/17/2019             3     married  40423  \n",
       "1  Alabama   31   2/17/2019             3     married  40423  \n",
       "2  Alabama   31   2/17/2019             3     married  40423  \n",
       "3  Alabama   31   2/17/2019             3     married  40423  \n",
       "4  Alabama   31   2/17/2019             3     married  40423  \n",
       "\n",
       "[5 rows x 26 columns]"
      ]
     },
     "execution_count": 8,
     "metadata": {},
     "output_type": "execute_result"
    }
   ],
   "source": [
    "# checking results after dropping\n",
    "ords_prods_custmrs_merged.head()"
   ]
  },
  {
   "cell_type": "markdown",
   "id": "40ef3169",
   "metadata": {},
   "source": [
    "### Subtask 3 - Creating regional segmentation of data"
   ]
  },
  {
   "cell_type": "code",
   "execution_count": 9,
   "id": "6b851cd2",
   "metadata": {},
   "outputs": [
    {
     "data": {
      "text/plain": [
       "Pennsylvania            667710\n",
       "California              660447\n",
       "Rhode Island            657655\n",
       "Georgia                 657072\n",
       "New Mexico              655143\n",
       "Arizona                 654545\n",
       "North Carolina          652338\n",
       "Oklahoma                652263\n",
       "Alaska                  649020\n",
       "Minnesota               648408\n",
       "Massachusetts           647000\n",
       "Wyoming                 644929\n",
       "Virginia                642075\n",
       "Missouri                641313\n",
       "Texas                   641058\n",
       "Colorado                639752\n",
       "Maine                   639149\n",
       "North Dakota            638999\n",
       "Alabama                 638617\n",
       "Louisiana               638174\n",
       "Kansas                  637991\n",
       "Delaware                637447\n",
       "South Carolina          637348\n",
       "Oregon                  636949\n",
       "Arkansas                636706\n",
       "Nevada                  636697\n",
       "New York                636697\n",
       "Montana                 635835\n",
       "South Dakota            634340\n",
       "Illinois                633490\n",
       "Hawaii                  633445\n",
       "Washington              633421\n",
       "Mississippi             633103\n",
       "Kentucky                632905\n",
       "Michigan                631622\n",
       "Florida                 629582\n",
       "Ohio                    629001\n",
       "Wisconsin               628552\n",
       "New Jersey              628292\n",
       "Indiana                 627768\n",
       "Maryland                627278\n",
       "Nebraska                626297\n",
       "Iowa                    626029\n",
       "Connecticut             623582\n",
       "Tennessee               618396\n",
       "New Hampshire           616006\n",
       "District of Columbia    614293\n",
       "West Virginia           612955\n",
       "Utah                    612451\n",
       "Vermont                 612256\n",
       "Idaho                   607811\n",
       "Name: state, dtype: int64"
      ]
     },
     "execution_count": 9,
     "metadata": {},
     "output_type": "execute_result"
    }
   ],
   "source": [
    "# create a regional segmentation of the data. You’ll need to create a “Region” column based on the “State” column from your customers data set\n",
    "ords_prods_custmrs_merged['state'].value_counts(dropna= False)"
   ]
  },
  {
   "cell_type": "code",
   "execution_count": 10,
   "id": "7f733bf5",
   "metadata": {},
   "outputs": [],
   "source": [
    "# define a function for the region\n",
    "region = []\n",
    "for value in ords_prods_custmrs_merged['state']:\n",
    "    if (value == 'Maine' or value == 'New Hampshire' or value == 'Vermont' or value == 'Massachusetts' or value == 'Rhode Island' or value == 'Connecticut' or value == 'New York' or value== 'Pennsylvania' or value == 'New Jersey'):\n",
    "        region.append('Northeast')\n",
    "    elif (value == 'Wisconsin' or value == 'Michigan' or value == 'Illinois' or value == 'Indiana' or value == 'Ohio' or value == 'North Dakota' or value == 'South Dakota' or value == 'Nebraska' or value == 'Kansas' or value == 'Minnesota' or value == 'Iowa' or value == 'Missouri'):\n",
    "        region.append('Midwest')\n",
    "    elif (value == 'Delaware' or value == 'Maryland' or value == 'District of Columbia' or value == 'Virginia' or value == 'West Virginia' or value == 'North Carolina' or value == 'South Carolina' or value == 'Georgia' or value == 'Florida' or value == 'Kentucky' or value == 'Tennessee' or value == 'Mississippi' or value == 'Alabama' or value == 'Oklahoma' or value == 'Texas' or value == 'Arkansas' or value == 'Louisiana'):\n",
    "        region.append(\"South\")\n",
    "    elif (value == 'Idaho' or value == 'Montana' or value == 'Wyoming' or value == 'Nevada' or value== 'Utah' or value == 'Colorado' or value == 'Arizona' or value == 'New Mexico' or value == 'Alaska' or value == 'Washington' or value == 'Oregon' or value == 'California' or value== 'Hawaii'):\n",
    "        region.append(\"West\")\n",
    "    else:\n",
    "        region.append('Not defined')"
   ]
  },
  {
   "cell_type": "code",
   "execution_count": 11,
   "id": "36e55941",
   "metadata": {},
   "outputs": [
    {
     "data": {
      "text/plain": [
       "['South',\n",
       " 'South',\n",
       " 'South',\n",
       " 'South',\n",
       " 'South',\n",
       " 'South',\n",
       " 'South',\n",
       " 'South',\n",
       " 'South',\n",
       " 'South',\n",
       " 'South',\n",
       " 'South',\n",
       " 'South',\n",
       " 'South',\n",
       " 'South',\n",
       " 'South',\n",
       " 'South',\n",
       " 'South',\n",
       " 'South',\n",
       " 'South',\n",
       " 'South',\n",
       " 'South',\n",
       " 'South',\n",
       " 'South',\n",
       " 'South',\n",
       " 'South',\n",
       " 'South',\n",
       " 'South',\n",
       " 'South',\n",
       " 'South',\n",
       " 'South',\n",
       " 'South',\n",
       " 'South',\n",
       " 'South',\n",
       " 'South',\n",
       " 'South',\n",
       " 'South',\n",
       " 'South',\n",
       " 'South',\n",
       " 'South',\n",
       " 'South',\n",
       " 'South',\n",
       " 'South',\n",
       " 'South',\n",
       " 'South',\n",
       " 'South',\n",
       " 'South',\n",
       " 'South',\n",
       " 'South',\n",
       " 'South',\n",
       " 'South',\n",
       " 'South',\n",
       " 'South',\n",
       " 'South',\n",
       " 'South',\n",
       " 'South',\n",
       " 'South',\n",
       " 'South',\n",
       " 'South',\n",
       " 'Midwest',\n",
       " 'Midwest',\n",
       " 'Midwest',\n",
       " 'Midwest',\n",
       " 'Midwest',\n",
       " 'Midwest',\n",
       " 'Midwest',\n",
       " 'Midwest',\n",
       " 'Midwest',\n",
       " 'Midwest',\n",
       " 'Midwest',\n",
       " 'Midwest',\n",
       " 'Midwest',\n",
       " 'Midwest',\n",
       " 'Midwest',\n",
       " 'Midwest',\n",
       " 'Midwest',\n",
       " 'Midwest',\n",
       " 'Midwest',\n",
       " 'Midwest',\n",
       " 'Midwest',\n",
       " 'Midwest',\n",
       " 'Midwest',\n",
       " 'Midwest',\n",
       " 'Midwest',\n",
       " 'Midwest',\n",
       " 'Midwest',\n",
       " 'Midwest',\n",
       " 'Midwest',\n",
       " 'Midwest',\n",
       " 'Midwest',\n",
       " 'Midwest',\n",
       " 'Midwest',\n",
       " 'Midwest',\n",
       " 'Midwest',\n",
       " 'Midwest',\n",
       " 'Midwest',\n",
       " 'Midwest',\n",
       " 'Midwest',\n",
       " 'Midwest',\n",
       " 'Midwest',\n",
       " 'Midwest',\n",
       " 'Midwest',\n",
       " 'Midwest',\n",
       " 'Midwest',\n",
       " 'Midwest',\n",
       " 'Midwest',\n",
       " 'Midwest',\n",
       " 'Midwest',\n",
       " 'Midwest',\n",
       " 'Midwest',\n",
       " 'Midwest',\n",
       " 'Midwest',\n",
       " 'Midwest',\n",
       " 'Midwest',\n",
       " 'Midwest',\n",
       " 'Midwest',\n",
       " 'Midwest',\n",
       " 'Midwest',\n",
       " 'Midwest',\n",
       " 'Midwest',\n",
       " 'Midwest',\n",
       " 'Midwest',\n",
       " 'Midwest',\n",
       " 'Midwest',\n",
       " 'Midwest',\n",
       " 'Midwest',\n",
       " 'Midwest',\n",
       " 'Midwest',\n",
       " 'Midwest',\n",
       " 'Midwest',\n",
       " 'Midwest',\n",
       " 'South',\n",
       " 'South',\n",
       " 'South',\n",
       " 'South',\n",
       " 'South',\n",
       " 'South',\n",
       " 'South',\n",
       " 'South',\n",
       " 'South',\n",
       " 'South',\n",
       " 'South',\n",
       " 'South',\n",
       " 'South',\n",
       " 'South',\n",
       " 'South',\n",
       " 'South',\n",
       " 'South',\n",
       " 'South',\n",
       " 'South',\n",
       " 'South',\n",
       " 'South',\n",
       " 'South',\n",
       " 'South',\n",
       " 'South',\n",
       " 'South',\n",
       " 'South',\n",
       " 'South',\n",
       " 'South',\n",
       " 'South',\n",
       " 'South',\n",
       " 'South',\n",
       " 'South',\n",
       " 'South',\n",
       " 'South',\n",
       " 'South',\n",
       " 'South',\n",
       " 'South',\n",
       " 'South',\n",
       " 'South',\n",
       " 'South',\n",
       " 'South',\n",
       " 'South',\n",
       " 'South',\n",
       " 'South',\n",
       " 'South',\n",
       " 'South',\n",
       " 'South',\n",
       " 'South',\n",
       " 'South',\n",
       " 'South',\n",
       " 'South',\n",
       " 'South',\n",
       " 'South',\n",
       " 'South',\n",
       " 'South',\n",
       " 'South',\n",
       " 'South',\n",
       " 'South',\n",
       " 'South',\n",
       " 'South',\n",
       " 'South',\n",
       " 'South',\n",
       " 'South',\n",
       " 'South',\n",
       " 'South',\n",
       " 'South',\n",
       " 'South',\n",
       " 'South',\n",
       " 'South',\n",
       " 'South',\n",
       " 'South',\n",
       " 'South',\n",
       " 'South',\n",
       " 'South',\n",
       " 'South',\n",
       " 'South',\n",
       " 'South',\n",
       " 'South',\n",
       " 'South',\n",
       " 'South',\n",
       " 'South',\n",
       " 'South',\n",
       " 'South',\n",
       " 'South',\n",
       " 'South',\n",
       " 'South',\n",
       " 'South',\n",
       " 'South',\n",
       " 'South',\n",
       " 'South',\n",
       " 'South',\n",
       " 'South',\n",
       " 'South',\n",
       " 'South',\n",
       " 'South',\n",
       " 'South',\n",
       " 'South',\n",
       " 'South',\n",
       " 'South',\n",
       " 'South',\n",
       " 'South',\n",
       " 'South',\n",
       " 'South',\n",
       " 'South',\n",
       " 'South',\n",
       " 'South',\n",
       " 'South',\n",
       " 'South',\n",
       " 'South',\n",
       " 'South',\n",
       " 'South',\n",
       " 'South',\n",
       " 'South',\n",
       " 'South',\n",
       " 'South',\n",
       " 'South',\n",
       " 'South',\n",
       " 'South',\n",
       " 'South',\n",
       " 'South',\n",
       " 'South',\n",
       " 'South',\n",
       " 'South',\n",
       " 'South',\n",
       " 'South',\n",
       " 'South',\n",
       " 'South',\n",
       " 'South',\n",
       " 'South',\n",
       " 'South',\n",
       " 'South',\n",
       " 'South',\n",
       " 'South',\n",
       " 'South',\n",
       " 'South',\n",
       " 'South',\n",
       " 'South',\n",
       " 'South',\n",
       " 'South',\n",
       " 'South',\n",
       " 'South',\n",
       " 'South',\n",
       " 'South',\n",
       " 'South',\n",
       " 'South',\n",
       " 'South',\n",
       " 'South',\n",
       " 'South',\n",
       " 'South',\n",
       " 'South',\n",
       " 'South',\n",
       " 'South',\n",
       " 'South',\n",
       " 'South',\n",
       " 'South',\n",
       " 'South',\n",
       " 'South',\n",
       " 'South',\n",
       " 'South',\n",
       " 'South',\n",
       " 'South',\n",
       " 'South',\n",
       " 'South',\n",
       " 'South',\n",
       " 'South',\n",
       " 'South',\n",
       " 'South',\n",
       " 'South',\n",
       " 'South',\n",
       " 'South',\n",
       " 'South',\n",
       " 'South',\n",
       " 'South',\n",
       " 'South',\n",
       " 'South',\n",
       " 'South',\n",
       " 'South',\n",
       " 'South',\n",
       " 'South',\n",
       " 'South',\n",
       " 'South',\n",
       " 'South',\n",
       " 'South',\n",
       " 'South',\n",
       " 'South',\n",
       " 'South',\n",
       " 'South',\n",
       " 'South',\n",
       " 'South',\n",
       " 'South',\n",
       " 'South',\n",
       " 'South',\n",
       " 'South',\n",
       " 'South',\n",
       " 'South',\n",
       " 'South',\n",
       " 'South',\n",
       " 'South',\n",
       " 'South',\n",
       " 'South',\n",
       " 'South',\n",
       " 'South',\n",
       " 'South',\n",
       " 'South',\n",
       " 'West',\n",
       " 'West',\n",
       " 'West',\n",
       " 'West',\n",
       " 'West',\n",
       " 'West',\n",
       " 'West',\n",
       " 'West',\n",
       " 'West',\n",
       " 'West',\n",
       " 'West',\n",
       " 'West',\n",
       " 'West',\n",
       " 'West',\n",
       " 'West',\n",
       " 'West',\n",
       " 'West',\n",
       " 'West',\n",
       " 'West',\n",
       " 'West',\n",
       " 'West',\n",
       " 'West',\n",
       " 'West',\n",
       " 'West',\n",
       " 'West',\n",
       " 'West',\n",
       " 'West',\n",
       " 'West',\n",
       " 'West',\n",
       " 'West',\n",
       " 'West',\n",
       " 'West',\n",
       " 'West',\n",
       " 'West',\n",
       " 'West',\n",
       " 'West',\n",
       " 'West',\n",
       " 'West',\n",
       " 'West',\n",
       " 'West',\n",
       " 'West',\n",
       " 'West',\n",
       " 'West',\n",
       " 'West',\n",
       " 'West',\n",
       " 'West',\n",
       " 'West',\n",
       " 'West',\n",
       " 'West',\n",
       " 'West',\n",
       " 'West',\n",
       " 'West',\n",
       " 'West',\n",
       " 'West',\n",
       " 'West',\n",
       " 'West',\n",
       " 'West',\n",
       " 'West',\n",
       " 'West',\n",
       " 'West',\n",
       " 'West',\n",
       " 'West',\n",
       " 'West',\n",
       " 'West',\n",
       " 'West',\n",
       " 'West',\n",
       " 'West',\n",
       " 'West',\n",
       " 'West',\n",
       " 'West',\n",
       " 'West',\n",
       " 'West',\n",
       " 'West',\n",
       " 'West',\n",
       " 'West',\n",
       " 'West',\n",
       " 'West',\n",
       " 'West',\n",
       " 'West',\n",
       " 'West',\n",
       " 'West',\n",
       " 'West',\n",
       " 'West',\n",
       " 'West',\n",
       " 'West',\n",
       " 'West',\n",
       " 'West',\n",
       " 'West',\n",
       " 'West',\n",
       " 'West',\n",
       " 'West',\n",
       " 'West',\n",
       " 'West',\n",
       " 'West',\n",
       " 'West',\n",
       " 'West',\n",
       " 'West',\n",
       " 'West',\n",
       " 'West',\n",
       " 'West',\n",
       " 'West',\n",
       " 'West',\n",
       " 'West',\n",
       " 'West',\n",
       " 'West',\n",
       " 'West',\n",
       " 'West',\n",
       " 'West',\n",
       " 'West',\n",
       " 'West',\n",
       " 'West',\n",
       " 'West',\n",
       " 'West',\n",
       " 'West',\n",
       " 'West',\n",
       " 'West',\n",
       " 'West',\n",
       " 'West',\n",
       " 'West',\n",
       " 'West',\n",
       " 'West',\n",
       " 'West',\n",
       " 'West',\n",
       " 'West',\n",
       " 'West',\n",
       " 'West',\n",
       " 'West',\n",
       " 'West',\n",
       " 'West',\n",
       " 'West',\n",
       " 'West',\n",
       " 'West',\n",
       " 'West',\n",
       " 'West',\n",
       " 'West',\n",
       " 'West',\n",
       " 'West',\n",
       " 'West',\n",
       " 'West',\n",
       " 'West',\n",
       " 'West',\n",
       " 'West',\n",
       " 'West',\n",
       " 'West',\n",
       " 'West',\n",
       " 'West',\n",
       " 'West',\n",
       " 'West',\n",
       " 'West',\n",
       " 'West',\n",
       " 'West',\n",
       " 'West',\n",
       " 'West',\n",
       " 'West',\n",
       " 'West',\n",
       " 'West',\n",
       " 'West',\n",
       " 'West',\n",
       " 'West',\n",
       " 'West',\n",
       " 'West',\n",
       " 'West',\n",
       " 'West',\n",
       " 'West',\n",
       " 'West',\n",
       " 'West',\n",
       " 'West',\n",
       " 'West',\n",
       " 'West',\n",
       " 'West',\n",
       " 'West',\n",
       " 'West',\n",
       " 'West',\n",
       " 'West',\n",
       " 'West',\n",
       " 'West',\n",
       " 'West',\n",
       " 'West',\n",
       " 'West',\n",
       " 'West',\n",
       " 'West',\n",
       " 'West',\n",
       " 'West',\n",
       " 'West',\n",
       " 'West',\n",
       " 'West',\n",
       " 'West',\n",
       " 'West',\n",
       " 'West',\n",
       " 'West',\n",
       " 'West',\n",
       " 'West',\n",
       " 'West',\n",
       " 'West',\n",
       " 'West',\n",
       " 'West',\n",
       " 'West',\n",
       " 'West',\n",
       " 'West',\n",
       " 'West',\n",
       " 'West',\n",
       " 'West',\n",
       " 'West',\n",
       " 'West',\n",
       " 'West',\n",
       " 'South',\n",
       " 'South',\n",
       " 'South',\n",
       " 'South',\n",
       " 'South',\n",
       " 'South',\n",
       " 'South',\n",
       " 'South',\n",
       " 'South',\n",
       " 'South',\n",
       " 'South',\n",
       " 'South',\n",
       " 'South',\n",
       " 'South',\n",
       " 'South',\n",
       " 'South',\n",
       " 'South',\n",
       " 'South',\n",
       " 'South',\n",
       " 'South',\n",
       " 'South',\n",
       " 'South',\n",
       " 'South',\n",
       " 'South',\n",
       " 'South',\n",
       " 'South',\n",
       " 'South',\n",
       " 'South',\n",
       " 'South',\n",
       " 'South',\n",
       " 'South',\n",
       " 'South',\n",
       " 'South',\n",
       " 'South',\n",
       " 'South',\n",
       " 'South',\n",
       " 'South',\n",
       " 'South',\n",
       " 'South',\n",
       " 'South',\n",
       " 'South',\n",
       " 'South',\n",
       " 'South',\n",
       " 'South',\n",
       " 'South',\n",
       " 'South',\n",
       " 'South',\n",
       " 'South',\n",
       " 'South',\n",
       " 'South',\n",
       " 'South',\n",
       " 'South',\n",
       " 'South',\n",
       " 'South',\n",
       " 'South',\n",
       " 'South',\n",
       " 'South',\n",
       " 'South',\n",
       " 'South',\n",
       " 'South',\n",
       " 'South',\n",
       " 'South',\n",
       " 'South',\n",
       " 'South',\n",
       " 'South',\n",
       " 'South',\n",
       " 'South',\n",
       " 'South',\n",
       " 'South',\n",
       " 'South',\n",
       " 'South',\n",
       " 'South',\n",
       " 'South',\n",
       " 'South',\n",
       " 'South',\n",
       " 'South',\n",
       " 'South',\n",
       " 'South',\n",
       " 'South',\n",
       " 'South',\n",
       " 'South',\n",
       " 'South',\n",
       " 'South',\n",
       " 'South',\n",
       " 'South',\n",
       " 'South',\n",
       " 'South',\n",
       " 'South',\n",
       " 'South',\n",
       " 'South',\n",
       " 'South',\n",
       " 'South',\n",
       " 'South',\n",
       " 'South',\n",
       " 'South',\n",
       " 'South',\n",
       " 'South',\n",
       " 'South',\n",
       " 'South',\n",
       " 'South',\n",
       " 'South',\n",
       " 'South',\n",
       " 'South',\n",
       " 'South',\n",
       " 'South',\n",
       " 'South',\n",
       " 'South',\n",
       " 'South',\n",
       " 'South',\n",
       " 'South',\n",
       " 'South',\n",
       " 'South',\n",
       " 'South',\n",
       " 'South',\n",
       " 'South',\n",
       " 'South',\n",
       " 'South',\n",
       " 'South',\n",
       " 'South',\n",
       " 'South',\n",
       " 'South',\n",
       " 'South',\n",
       " 'South',\n",
       " 'South',\n",
       " 'South',\n",
       " 'South',\n",
       " 'South',\n",
       " 'South',\n",
       " 'South',\n",
       " 'South',\n",
       " 'South',\n",
       " 'South',\n",
       " 'South',\n",
       " 'South',\n",
       " 'South',\n",
       " 'South',\n",
       " 'South',\n",
       " 'South',\n",
       " 'South',\n",
       " 'South',\n",
       " 'South',\n",
       " 'South',\n",
       " 'South',\n",
       " 'South',\n",
       " 'South',\n",
       " 'South',\n",
       " 'South',\n",
       " 'South',\n",
       " 'South',\n",
       " 'South',\n",
       " 'South',\n",
       " 'South',\n",
       " 'South',\n",
       " 'South',\n",
       " 'South',\n",
       " 'South',\n",
       " 'South',\n",
       " 'South',\n",
       " 'South',\n",
       " 'South',\n",
       " 'South',\n",
       " 'South',\n",
       " 'South',\n",
       " 'South',\n",
       " 'South',\n",
       " 'South',\n",
       " 'South',\n",
       " 'South',\n",
       " 'South',\n",
       " 'South',\n",
       " 'South',\n",
       " 'South',\n",
       " 'South',\n",
       " 'South',\n",
       " 'South',\n",
       " 'South',\n",
       " 'South',\n",
       " 'South',\n",
       " 'South',\n",
       " 'South',\n",
       " 'South',\n",
       " 'South',\n",
       " 'South',\n",
       " 'South',\n",
       " 'South',\n",
       " 'South',\n",
       " 'South',\n",
       " 'South',\n",
       " 'South',\n",
       " 'South',\n",
       " 'South',\n",
       " 'South',\n",
       " 'South',\n",
       " 'South',\n",
       " 'South',\n",
       " 'South',\n",
       " 'South',\n",
       " 'South',\n",
       " 'South',\n",
       " 'South',\n",
       " 'South',\n",
       " 'South',\n",
       " 'South',\n",
       " 'South',\n",
       " 'South',\n",
       " 'South',\n",
       " 'South',\n",
       " 'South',\n",
       " 'South',\n",
       " 'South',\n",
       " 'South',\n",
       " 'South',\n",
       " 'South',\n",
       " 'South',\n",
       " 'South',\n",
       " 'South',\n",
       " 'South',\n",
       " 'South',\n",
       " 'South',\n",
       " 'South',\n",
       " 'South',\n",
       " 'South',\n",
       " 'South',\n",
       " 'South',\n",
       " 'South',\n",
       " 'South',\n",
       " 'South',\n",
       " 'South',\n",
       " 'South',\n",
       " 'South',\n",
       " 'South',\n",
       " 'South',\n",
       " 'South',\n",
       " 'South',\n",
       " 'South',\n",
       " 'South',\n",
       " 'South',\n",
       " 'South',\n",
       " 'South',\n",
       " 'South',\n",
       " 'South',\n",
       " 'South',\n",
       " 'South',\n",
       " 'South',\n",
       " 'South',\n",
       " 'South',\n",
       " 'South',\n",
       " 'South',\n",
       " 'South',\n",
       " 'South',\n",
       " 'South',\n",
       " 'South',\n",
       " 'South',\n",
       " 'South',\n",
       " 'South',\n",
       " 'South',\n",
       " 'South',\n",
       " 'South',\n",
       " 'South',\n",
       " 'South',\n",
       " 'South',\n",
       " 'South',\n",
       " 'South',\n",
       " 'South',\n",
       " 'South',\n",
       " 'South',\n",
       " 'South',\n",
       " 'South',\n",
       " 'South',\n",
       " 'South',\n",
       " 'South',\n",
       " 'South',\n",
       " 'South',\n",
       " 'South',\n",
       " 'South',\n",
       " 'South',\n",
       " 'South',\n",
       " 'South',\n",
       " 'South',\n",
       " 'South',\n",
       " 'South',\n",
       " 'South',\n",
       " 'South',\n",
       " 'South',\n",
       " 'South',\n",
       " 'South',\n",
       " 'South',\n",
       " 'South',\n",
       " 'South',\n",
       " 'South',\n",
       " 'South',\n",
       " 'South',\n",
       " 'South',\n",
       " 'South',\n",
       " 'South',\n",
       " 'South',\n",
       " 'South',\n",
       " 'South',\n",
       " 'South',\n",
       " 'South',\n",
       " 'South',\n",
       " 'South',\n",
       " 'South',\n",
       " 'South',\n",
       " 'South',\n",
       " 'South',\n",
       " 'South',\n",
       " 'South',\n",
       " 'South',\n",
       " 'South',\n",
       " 'South',\n",
       " 'South',\n",
       " 'South',\n",
       " 'South',\n",
       " 'South',\n",
       " 'South',\n",
       " 'South',\n",
       " 'South',\n",
       " 'South',\n",
       " 'South',\n",
       " 'South',\n",
       " 'South',\n",
       " 'South',\n",
       " 'South',\n",
       " 'South',\n",
       " 'South',\n",
       " 'South',\n",
       " 'South',\n",
       " 'South',\n",
       " 'South',\n",
       " 'South',\n",
       " 'South',\n",
       " 'South',\n",
       " 'South',\n",
       " 'South',\n",
       " 'South',\n",
       " 'South',\n",
       " 'South',\n",
       " 'South',\n",
       " 'South',\n",
       " 'South',\n",
       " 'South',\n",
       " 'South',\n",
       " 'South',\n",
       " 'South',\n",
       " 'South',\n",
       " 'South',\n",
       " 'South',\n",
       " 'South',\n",
       " 'South',\n",
       " 'South',\n",
       " 'South',\n",
       " 'South',\n",
       " 'South',\n",
       " 'South',\n",
       " 'South',\n",
       " 'South',\n",
       " 'South',\n",
       " 'South',\n",
       " 'South',\n",
       " 'South',\n",
       " 'South',\n",
       " 'South',\n",
       " 'South',\n",
       " 'South',\n",
       " 'South',\n",
       " 'South',\n",
       " 'South',\n",
       " 'South',\n",
       " 'South',\n",
       " 'South',\n",
       " 'South',\n",
       " 'South',\n",
       " 'South',\n",
       " 'South',\n",
       " 'South',\n",
       " 'South',\n",
       " 'South',\n",
       " 'South',\n",
       " 'South',\n",
       " 'South',\n",
       " 'South',\n",
       " 'South',\n",
       " 'South',\n",
       " 'South',\n",
       " 'South',\n",
       " 'South',\n",
       " 'South',\n",
       " 'South',\n",
       " 'South',\n",
       " 'South',\n",
       " 'South',\n",
       " 'South',\n",
       " 'South',\n",
       " 'South',\n",
       " 'South',\n",
       " 'South',\n",
       " 'South',\n",
       " 'South',\n",
       " 'South',\n",
       " 'South',\n",
       " 'South',\n",
       " 'South',\n",
       " 'South',\n",
       " 'South',\n",
       " 'South',\n",
       " 'South',\n",
       " 'South',\n",
       " 'South',\n",
       " 'South',\n",
       " 'South',\n",
       " 'South',\n",
       " 'South',\n",
       " 'South',\n",
       " 'South',\n",
       " 'South',\n",
       " 'South',\n",
       " 'South',\n",
       " 'South',\n",
       " 'South',\n",
       " 'South',\n",
       " 'South',\n",
       " 'South',\n",
       " 'South',\n",
       " 'South',\n",
       " 'South',\n",
       " 'South',\n",
       " 'South',\n",
       " 'South',\n",
       " 'South',\n",
       " 'South',\n",
       " 'South',\n",
       " 'South',\n",
       " 'South',\n",
       " 'South',\n",
       " 'South',\n",
       " 'South',\n",
       " 'South',\n",
       " 'South',\n",
       " 'South',\n",
       " 'South',\n",
       " 'South',\n",
       " 'South',\n",
       " 'South',\n",
       " 'South',\n",
       " 'South',\n",
       " 'South',\n",
       " 'South',\n",
       " 'South',\n",
       " 'South',\n",
       " 'South',\n",
       " 'South',\n",
       " 'South',\n",
       " 'South',\n",
       " 'South',\n",
       " 'South',\n",
       " 'South',\n",
       " 'South',\n",
       " 'South',\n",
       " 'South',\n",
       " ...]"
      ]
     },
     "execution_count": 11,
     "metadata": {},
     "output_type": "execute_result"
    }
   ],
   "source": [
    "region"
   ]
  },
  {
   "cell_type": "code",
   "execution_count": 12,
   "id": "a2d7185f",
   "metadata": {},
   "outputs": [],
   "source": [
    "# creating label for new column\n",
    "ords_prods_custmrs_merged['us_region']= region"
   ]
  },
  {
   "cell_type": "code",
   "execution_count": 13,
   "id": "3864f68b",
   "metadata": {},
   "outputs": [
    {
     "data": {
      "text/plain": [
       "South        10801610\n",
       "West          8300445\n",
       "Midwest       7603810\n",
       "Northeast     5728347\n",
       "Name: us_region, dtype: int64"
      ]
     },
     "execution_count": 13,
     "metadata": {},
     "output_type": "execute_result"
    }
   ],
   "source": [
    "# checking us_region results\n",
    "ords_prods_custmrs_merged['us_region'].value_counts(dropna = False)"
   ]
  },
  {
   "cell_type": "code",
   "execution_count": 14,
   "id": "ce676cee",
   "metadata": {},
   "outputs": [
    {
     "data": {
      "text/html": [
       "<div>\n",
       "<style scoped>\n",
       "    .dataframe tbody tr th:only-of-type {\n",
       "        vertical-align: middle;\n",
       "    }\n",
       "\n",
       "    .dataframe tbody tr th {\n",
       "        vertical-align: top;\n",
       "    }\n",
       "\n",
       "    .dataframe thead tr th {\n",
       "        text-align: left;\n",
       "    }\n",
       "\n",
       "    .dataframe thead tr:last-of-type th {\n",
       "        text-align: right;\n",
       "    }\n",
       "</style>\n",
       "<table border=\"1\" class=\"dataframe\">\n",
       "  <thead>\n",
       "    <tr>\n",
       "      <th></th>\n",
       "      <th>order_number</th>\n",
       "    </tr>\n",
       "    <tr>\n",
       "      <th></th>\n",
       "      <th>sum</th>\n",
       "    </tr>\n",
       "    <tr>\n",
       "      <th>us_region</th>\n",
       "      <th></th>\n",
       "    </tr>\n",
       "  </thead>\n",
       "  <tbody>\n",
       "    <tr>\n",
       "      <th>Midwest</th>\n",
       "      <td>128692591</td>\n",
       "    </tr>\n",
       "    <tr>\n",
       "      <th>Northeast</th>\n",
       "      <td>98617491</td>\n",
       "    </tr>\n",
       "    <tr>\n",
       "      <th>South</th>\n",
       "      <td>185248791</td>\n",
       "    </tr>\n",
       "    <tr>\n",
       "      <th>West</th>\n",
       "      <td>143425956</td>\n",
       "    </tr>\n",
       "  </tbody>\n",
       "</table>\n",
       "</div>"
      ],
      "text/plain": [
       "          order_number\n",
       "                   sum\n",
       "us_region             \n",
       "Midwest      128692591\n",
       "Northeast     98617491\n",
       "South        185248791\n",
       "West         143425956"
      ]
     },
     "execution_count": 14,
     "metadata": {},
     "output_type": "execute_result"
    }
   ],
   "source": [
    "# determine whether there’s a difference in spending habits between the different U.S. regions\n",
    "ords_prods_custmrs_merged.groupby(['us_region']).agg({'order_number':['sum']})"
   ]
  },
  {
   "cell_type": "code",
   "execution_count": 15,
   "id": "3feb5d4f",
   "metadata": {},
   "outputs": [
    {
     "data": {
      "text/html": [
       "<div>\n",
       "<style scoped>\n",
       "    .dataframe tbody tr th:only-of-type {\n",
       "        vertical-align: middle;\n",
       "    }\n",
       "\n",
       "    .dataframe tbody tr th {\n",
       "        vertical-align: top;\n",
       "    }\n",
       "\n",
       "    .dataframe thead tr th {\n",
       "        text-align: left;\n",
       "    }\n",
       "\n",
       "    .dataframe thead tr:last-of-type th {\n",
       "        text-align: right;\n",
       "    }\n",
       "</style>\n",
       "<table border=\"1\" class=\"dataframe\">\n",
       "  <thead>\n",
       "    <tr>\n",
       "      <th></th>\n",
       "      <th>prices</th>\n",
       "    </tr>\n",
       "    <tr>\n",
       "      <th></th>\n",
       "      <th>sum</th>\n",
       "    </tr>\n",
       "    <tr>\n",
       "      <th>us_region</th>\n",
       "      <th></th>\n",
       "    </tr>\n",
       "  </thead>\n",
       "  <tbody>\n",
       "    <tr>\n",
       "      <th>Midwest</th>\n",
       "      <td>9.668811e+07</td>\n",
       "    </tr>\n",
       "    <tr>\n",
       "      <th>Northeast</th>\n",
       "      <td>6.619906e+07</td>\n",
       "    </tr>\n",
       "    <tr>\n",
       "      <th>South</th>\n",
       "      <td>1.317394e+08</td>\n",
       "    </tr>\n",
       "    <tr>\n",
       "      <th>West</th>\n",
       "      <td>9.397244e+07</td>\n",
       "    </tr>\n",
       "  </tbody>\n",
       "</table>\n",
       "</div>"
      ],
      "text/plain": [
       "                 prices\n",
       "                    sum\n",
       "us_region              \n",
       "Midwest    9.668811e+07\n",
       "Northeast  6.619906e+07\n",
       "South      1.317394e+08\n",
       "West       9.397244e+07"
      ]
     },
     "execution_count": 15,
     "metadata": {},
     "output_type": "execute_result"
    }
   ],
   "source": [
    "# determine whether there’s a difference in spending habits between the different U.S. regions\n",
    "ords_prods_custmrs_merged.groupby(['us_region']).agg({'prices':['sum']})"
   ]
  },
  {
   "cell_type": "code",
   "execution_count": 16,
   "id": "6fd9aaf5",
   "metadata": {},
   "outputs": [
    {
     "data": {
      "text/plain": [
       "7.700000     4127\n",
       "7.154658     3725\n",
       "6.684799     3638\n",
       "7.800000     3445\n",
       "7.400000     3375\n",
       "             ... \n",
       "11.933333       3\n",
       "2.866667        3\n",
       "1.566667        3\n",
       "12.200000       3\n",
       "2.933333        3\n",
       "Name: mean_order, Length: 160090, dtype: int64"
      ]
     },
     "execution_count": 16,
     "metadata": {},
     "output_type": "execute_result"
    }
   ],
   "source": [
    "ords_prods_custmrs_merged['mean_order'].value_counts()"
   ]
  },
  {
   "cell_type": "code",
   "execution_count": 17,
   "id": "1040696d",
   "metadata": {},
   "outputs": [
    {
     "data": {
      "text/plain": [
       "<AxesSubplot:>"
      ]
     },
     "execution_count": 17,
     "metadata": {},
     "output_type": "execute_result"
    },
    {
     "data": {
      "image/png": "[encoded data removed]",
      "text/plain": [
       "<Figure size 432x288 with 1 Axes>"
      ]
     },
     "metadata": {
      "needs_background": "light"
     },
     "output_type": "display_data"
    }
   ],
   "source": [
    "ords_prods_custmrs_merged['us_region'].value_counts().plot.bar()"
   ]
  },
  {
   "cell_type": "markdown",
   "id": "2b5eb74c",
   "metadata": {},
   "source": [
    "#### the us_region 'South' has the highest number of orders and spending"
   ]
  },
  {
   "cell_type": "markdown",
   "id": "e4058c90",
   "metadata": {},
   "source": [
    "### Subtask 4 - Creating exclusion flag for low activity customers"
   ]
  },
  {
   "cell_type": "code",
   "execution_count": 18,
   "id": "98e33c72",
   "metadata": {},
   "outputs": [],
   "source": [
    "# Create an exclusion flag for low-activity customers (customers with less than 5 orders) and exclude them from the data. Make sure you export this sample.\n",
    "# define customer activity\n",
    "ords_prods_custmrs_merged['customer_activity'] = ords_prods_custmrs_merged.groupby(['user_id'])['order_number'].transform('max')"
   ]
  },
  {
   "cell_type": "code",
   "execution_count": 19,
   "id": "a7ef0eee",
   "metadata": {},
   "outputs": [],
   "source": [
    "# low activity\n",
    "ords_prods_custmrs_merged.loc[ords_prods_custmrs_merged['customer_activity'] < 5, 'activity_flag'] = 'low activity'"
   ]
  },
  {
   "cell_type": "code",
   "execution_count": 20,
   "id": "fc4f7726",
   "metadata": {},
   "outputs": [],
   "source": [
    "# medium activity\n",
    "ords_prods_custmrs_merged.loc[(ords_prods_custmrs_merged['customer_activity'] >= 5) & (ords_prods_custmrs_merged['customer_activity'] < 15), 'activity_flag'] = 'medium activity'"
   ]
  },
  {
   "cell_type": "code",
   "execution_count": 21,
   "id": "aede95f6",
   "metadata": {},
   "outputs": [],
   "source": [
    "# high activity\n",
    "ords_prods_custmrs_merged.loc[ords_prods_custmrs_merged['customer_activity'] >= 15, 'activity_flag'] = 'high activity'"
   ]
  },
  {
   "cell_type": "code",
   "execution_count": 22,
   "id": "a80d556b",
   "metadata": {},
   "outputs": [
    {
     "data": {
      "text/plain": [
       "high activity      23197950\n",
       "medium activity     7794714\n",
       "low activity        1441548\n",
       "Name: activity_flag, dtype: int64"
      ]
     },
     "execution_count": 22,
     "metadata": {},
     "output_type": "execute_result"
    }
   ],
   "source": [
    "# checking customer_activity results\n",
    "ords_prods_custmrs_merged['activity_flag'].value_counts(dropna= False)"
   ]
  },
  {
   "cell_type": "code",
   "execution_count": 23,
   "id": "8b362b98",
   "metadata": {},
   "outputs": [],
   "source": [
    "# export customers with low activity\n",
    "low_activity = ords_prods_custmrs_merged.copy()"
   ]
  },
  {
   "cell_type": "code",
   "execution_count": 24,
   "id": "b2ffb5ce",
   "metadata": {},
   "outputs": [],
   "source": [
    "low_activity = low_activity[low_activity.customer_activity < 5]"
   ]
  },
  {
   "cell_type": "code",
   "execution_count": 25,
   "id": "fe3591ee",
   "metadata": {},
   "outputs": [
    {
     "data": {
      "text/plain": [
       "(1441548, 29)"
      ]
     },
     "execution_count": 25,
     "metadata": {},
     "output_type": "execute_result"
    }
   ],
   "source": [
    "# checking low activity results\n",
    "low_activity.shape"
   ]
  },
  {
   "cell_type": "code",
   "execution_count": 26,
   "id": "9450885c",
   "metadata": {},
   "outputs": [
    {
     "data": {
      "text/plain": [
       "low activity    1441548\n",
       "Name: activity_flag, dtype: int64"
      ]
     },
     "execution_count": 26,
     "metadata": {},
     "output_type": "execute_result"
    }
   ],
   "source": [
    "low_activity['activity_flag'].value_counts(dropna= False)"
   ]
  },
  {
   "cell_type": "code",
   "execution_count": 27,
   "id": "cf0b4b95",
   "metadata": {},
   "outputs": [],
   "source": [
    "# save low customer activities \n",
    "low_activity.to_csv(os.path.join(path, '4.2 - 02 Data', 'Prepared Data', 'ords_prods_custmrs_merge_low_act.csv'))"
   ]
  },
  {
   "cell_type": "code",
   "execution_count": 28,
   "id": "73e8175a",
   "metadata": {},
   "outputs": [],
   "source": [
    "# remove low customer_activity from ords_prods_custmrs_merged\n",
    "ords_prods_custmrs_merged = ords_prods_custmrs_merged[ords_prods_custmrs_merged.customer_activity >=5]"
   ]
  },
  {
   "cell_type": "code",
   "execution_count": 29,
   "id": "344567f3",
   "metadata": {},
   "outputs": [
    {
     "data": {
      "text/plain": [
       "high activity      23197950\n",
       "medium activity     7794714\n",
       "Name: activity_flag, dtype: int64"
      ]
     },
     "execution_count": 29,
     "metadata": {},
     "output_type": "execute_result"
    }
   ],
   "source": [
    "# checking low activity results\n",
    "ords_prods_custmrs_merged['activity_flag'].value_counts(dropna= False)"
   ]
  },
  {
   "cell_type": "markdown",
   "id": "91e0567e",
   "metadata": {},
   "source": [
    "### Subtask 5 - Creating profiling variables based on age, income, nr_dependants and department_id"
   ]
  },
  {
   "cell_type": "code",
   "execution_count": 30,
   "id": "ca163a8c",
   "metadata": {},
   "outputs": [],
   "source": [
    "# define fam_range function\n",
    "def fam_range(row):\n",
    "    if row['n_dependants'] == 0:\n",
    "        return 'single'\n",
    "    elif (row['n_dependants'] > 0) and (row['n_dependants'] <= 4):\n",
    "        return 'family'\n",
    "    elif row ['n_dependants'] > 4:\n",
    "        return 'big_family'\n",
    "    else: return np.nan"
   ]
  },
  {
   "cell_type": "code",
   "execution_count": 31,
   "id": "f0d1899a",
   "metadata": {},
   "outputs": [],
   "source": [
    "# apply the fam_range function\n",
    "ords_prods_custmrs_merged['fam_range'] = ords_prods_custmrs_merged.apply(fam_range, axis = 1)"
   ]
  },
  {
   "cell_type": "code",
   "execution_count": 32,
   "id": "b1c4f3ae",
   "metadata": {},
   "outputs": [
    {
     "data": {
      "text/plain": [
       "family    23245632\n",
       "single     7747032\n",
       "Name: fam_range, dtype: int64"
      ]
     },
     "execution_count": 32,
     "metadata": {},
     "output_type": "execute_result"
    }
   ],
   "source": [
    "ords_prods_custmrs_merged['fam_range'].value_counts(dropna = False)"
   ]
  },
  {
   "cell_type": "code",
   "execution_count": 33,
   "id": "d87c0a53",
   "metadata": {},
   "outputs": [],
   "source": [
    "# define age_range function\n",
    "def age_range(row):\n",
    "    if (row['age'] >= 18) and (row['age'] <= 35):\n",
    "        return 'young'\n",
    "    elif (row['age'] > 35) and (row['age'] <= 65):\n",
    "        return 'adult'\n",
    "    elif row ['age'] > 65:\n",
    "        return 'mature'\n",
    "    else: return np.nan"
   ]
  },
  {
   "cell_type": "code",
   "execution_count": 34,
   "id": "6cc892b7",
   "metadata": {},
   "outputs": [],
   "source": [
    "ords_prods_custmrs_merged['age_range'] = ords_prods_custmrs_merged.apply(age_range, axis = 1)"
   ]
  },
  {
   "cell_type": "code",
   "execution_count": 35,
   "id": "f55159bc",
   "metadata": {},
   "outputs": [
    {
     "data": {
      "text/plain": [
       "adult     14508266\n",
       "young      8746779\n",
       "mature     7737619\n",
       "Name: age_range, dtype: int64"
      ]
     },
     "execution_count": 35,
     "metadata": {},
     "output_type": "execute_result"
    }
   ],
   "source": [
    "ords_prods_custmrs_merged['age_range'].value_counts(dropna = False)"
   ]
  },
  {
   "cell_type": "code",
   "execution_count": 36,
   "id": "e37fef96",
   "metadata": {},
   "outputs": [],
   "source": [
    "# define income_range function\n",
    "def income_range(row):\n",
    "    if (row['income'] <= 60000):\n",
    "        return 'low_income'\n",
    "    elif (row['income'] > 60000) and (row['income'] <= 120000):\n",
    "        return 'med_income'\n",
    "    elif row ['income'] > 120000:\n",
    "        return 'high_income'\n",
    "    else: return np.nan"
   ]
  },
  {
   "cell_type": "code",
   "execution_count": 37,
   "id": "bbeb614f",
   "metadata": {},
   "outputs": [],
   "source": [
    "ords_prods_custmrs_merged['income_range'] = ords_prods_custmrs_merged.apply(income_range, axis = 1)"
   ]
  },
  {
   "cell_type": "code",
   "execution_count": 38,
   "id": "1a0fe5e1",
   "metadata": {},
   "outputs": [
    {
     "data": {
      "text/plain": [
       "med_income     15996246\n",
       "high_income     9187363\n",
       "low_income      5809055\n",
       "Name: income_range, dtype: int64"
      ]
     },
     "execution_count": 38,
     "metadata": {},
     "output_type": "execute_result"
    }
   ],
   "source": [
    "ords_prods_custmrs_merged['income_range'].value_counts(dropna = False)"
   ]
  },
  {
   "cell_type": "code",
   "execution_count": 39,
   "id": "ddcdfc57",
   "metadata": {},
   "outputs": [
    {
     "data": {
      "text/plain": [
       "<bound method NDFrame.describe of 0           7\n",
       "1           7\n",
       "2           7\n",
       "3           7\n",
       "4           7\n",
       "           ..\n",
       "32434203    7\n",
       "32434204    7\n",
       "32434205    7\n",
       "32434206    7\n",
       "32434207    7\n",
       "Name: department_id, Length: 30992664, dtype: int64>"
      ]
     },
     "execution_count": 39,
     "metadata": {},
     "output_type": "execute_result"
    }
   ],
   "source": [
    "ords_prods_custmrs_merged['department_id'].describe"
   ]
  },
  {
   "cell_type": "code",
   "execution_count": 40,
   "id": "4456c257",
   "metadata": {},
   "outputs": [],
   "source": [
    "# define beverage_flag function\n",
    "def beverage_flag(row):\n",
    "    if row['department_id'] == 5:\n",
    "        return 'alc_beverage'\n",
    "    if row['department_id'] == 7:\n",
    "        return 'soft_beverage'\n",
    "    else: return 'no_beverage'"
   ]
  },
  {
   "cell_type": "code",
   "execution_count": 42,
   "id": "e1f00681",
   "metadata": {},
   "outputs": [],
   "source": [
    "ords_prods_custmrs_merged['beverage_flag'] = ords_prods_custmrs_merged.apply(beverage_flag, axis = 1)"
   ]
  },
  {
   "cell_type": "code",
   "execution_count": 43,
   "id": "da461e41",
   "metadata": {},
   "outputs": [
    {
     "data": {
      "text/plain": [
       "no_beverage      28276056\n",
       "soft_beverage     2571934\n",
       "alc_beverage       144674\n",
       "Name: beverage_flag, dtype: int64"
      ]
     },
     "execution_count": 43,
     "metadata": {},
     "output_type": "execute_result"
    }
   ],
   "source": [
    "ords_prods_custmrs_merged['beverage_flag'].value_counts(dropna= False)"
   ]
  },
  {
   "cell_type": "code",
   "execution_count": 44,
   "id": "3ff5073c",
   "metadata": {},
   "outputs": [
    {
     "data": {
      "text/html": [
       "<div>\n",
       "<style scoped>\n",
       "    .dataframe tbody tr th:only-of-type {\n",
       "        vertical-align: middle;\n",
       "    }\n",
       "\n",
       "    .dataframe tbody tr th {\n",
       "        vertical-align: top;\n",
       "    }\n",
       "\n",
       "    .dataframe thead th {\n",
       "        text-align: right;\n",
       "    }\n",
       "</style>\n",
       "<table border=\"1\" class=\"dataframe\">\n",
       "  <thead>\n",
       "    <tr style=\"text-align: right;\">\n",
       "      <th></th>\n",
       "      <th>order_id</th>\n",
       "      <th>user_id</th>\n",
       "      <th>order_number</th>\n",
       "      <th>order_dow</th>\n",
       "      <th>order_hour_of_day</th>\n",
       "      <th>days_since_prior_order</th>\n",
       "      <th>product_id</th>\n",
       "      <th>add_to_cart_order</th>\n",
       "      <th>reordered</th>\n",
       "      <th>_merge</th>\n",
       "      <th>...</th>\n",
       "      <th>n_dependants</th>\n",
       "      <th>fam_status</th>\n",
       "      <th>income</th>\n",
       "      <th>us_region</th>\n",
       "      <th>customer_activity</th>\n",
       "      <th>activity_flag</th>\n",
       "      <th>fam_range</th>\n",
       "      <th>age_range</th>\n",
       "      <th>income_range</th>\n",
       "      <th>beverage_flag</th>\n",
       "    </tr>\n",
       "  </thead>\n",
       "  <tbody>\n",
       "    <tr>\n",
       "      <th>0</th>\n",
       "      <td>2539329</td>\n",
       "      <td>1</td>\n",
       "      <td>1</td>\n",
       "      <td>2</td>\n",
       "      <td>8</td>\n",
       "      <td>NaN</td>\n",
       "      <td>196</td>\n",
       "      <td>1</td>\n",
       "      <td>0</td>\n",
       "      <td>both</td>\n",
       "      <td>...</td>\n",
       "      <td>3</td>\n",
       "      <td>married</td>\n",
       "      <td>40423</td>\n",
       "      <td>South</td>\n",
       "      <td>10</td>\n",
       "      <td>medium activity</td>\n",
       "      <td>family</td>\n",
       "      <td>young</td>\n",
       "      <td>low_income</td>\n",
       "      <td>soft_beverage</td>\n",
       "    </tr>\n",
       "    <tr>\n",
       "      <th>1</th>\n",
       "      <td>2398795</td>\n",
       "      <td>1</td>\n",
       "      <td>2</td>\n",
       "      <td>3</td>\n",
       "      <td>7</td>\n",
       "      <td>15.0</td>\n",
       "      <td>196</td>\n",
       "      <td>1</td>\n",
       "      <td>1</td>\n",
       "      <td>both</td>\n",
       "      <td>...</td>\n",
       "      <td>3</td>\n",
       "      <td>married</td>\n",
       "      <td>40423</td>\n",
       "      <td>South</td>\n",
       "      <td>10</td>\n",
       "      <td>medium activity</td>\n",
       "      <td>family</td>\n",
       "      <td>young</td>\n",
       "      <td>low_income</td>\n",
       "      <td>soft_beverage</td>\n",
       "    </tr>\n",
       "    <tr>\n",
       "      <th>2</th>\n",
       "      <td>473747</td>\n",
       "      <td>1</td>\n",
       "      <td>3</td>\n",
       "      <td>3</td>\n",
       "      <td>12</td>\n",
       "      <td>21.0</td>\n",
       "      <td>196</td>\n",
       "      <td>1</td>\n",
       "      <td>1</td>\n",
       "      <td>both</td>\n",
       "      <td>...</td>\n",
       "      <td>3</td>\n",
       "      <td>married</td>\n",
       "      <td>40423</td>\n",
       "      <td>South</td>\n",
       "      <td>10</td>\n",
       "      <td>medium activity</td>\n",
       "      <td>family</td>\n",
       "      <td>young</td>\n",
       "      <td>low_income</td>\n",
       "      <td>soft_beverage</td>\n",
       "    </tr>\n",
       "    <tr>\n",
       "      <th>3</th>\n",
       "      <td>2254736</td>\n",
       "      <td>1</td>\n",
       "      <td>4</td>\n",
       "      <td>4</td>\n",
       "      <td>7</td>\n",
       "      <td>29.0</td>\n",
       "      <td>196</td>\n",
       "      <td>1</td>\n",
       "      <td>1</td>\n",
       "      <td>both</td>\n",
       "      <td>...</td>\n",
       "      <td>3</td>\n",
       "      <td>married</td>\n",
       "      <td>40423</td>\n",
       "      <td>South</td>\n",
       "      <td>10</td>\n",
       "      <td>medium activity</td>\n",
       "      <td>family</td>\n",
       "      <td>young</td>\n",
       "      <td>low_income</td>\n",
       "      <td>soft_beverage</td>\n",
       "    </tr>\n",
       "    <tr>\n",
       "      <th>4</th>\n",
       "      <td>431534</td>\n",
       "      <td>1</td>\n",
       "      <td>5</td>\n",
       "      <td>4</td>\n",
       "      <td>15</td>\n",
       "      <td>28.0</td>\n",
       "      <td>196</td>\n",
       "      <td>1</td>\n",
       "      <td>1</td>\n",
       "      <td>both</td>\n",
       "      <td>...</td>\n",
       "      <td>3</td>\n",
       "      <td>married</td>\n",
       "      <td>40423</td>\n",
       "      <td>South</td>\n",
       "      <td>10</td>\n",
       "      <td>medium activity</td>\n",
       "      <td>family</td>\n",
       "      <td>young</td>\n",
       "      <td>low_income</td>\n",
       "      <td>soft_beverage</td>\n",
       "    </tr>\n",
       "  </tbody>\n",
       "</table>\n",
       "<p>5 rows × 33 columns</p>\n",
       "</div>"
      ],
      "text/plain": [
       "   order_id  user_id  order_number  order_dow  order_hour_of_day  \\\n",
       "0   2539329        1             1          2                  8   \n",
       "1   2398795        1             2          3                  7   \n",
       "2    473747        1             3          3                 12   \n",
       "3   2254736        1             4          4                  7   \n",
       "4    431534        1             5          4                 15   \n",
       "\n",
       "   days_since_prior_order  product_id  add_to_cart_order  reordered _merge  \\\n",
       "0                     NaN         196                  1          0   both   \n",
       "1                    15.0         196                  1          1   both   \n",
       "2                    21.0         196                  1          1   both   \n",
       "3                    29.0         196                  1          1   both   \n",
       "4                    28.0         196                  1          1   both   \n",
       "\n",
       "   ...  n_dependants fam_status  income  us_region  customer_activity  \\\n",
       "0  ...             3    married   40423      South                 10   \n",
       "1  ...             3    married   40423      South                 10   \n",
       "2  ...             3    married   40423      South                 10   \n",
       "3  ...             3    married   40423      South                 10   \n",
       "4  ...             3    married   40423      South                 10   \n",
       "\n",
       "     activity_flag fam_range  age_range  income_range  beverage_flag  \n",
       "0  medium activity    family      young    low_income  soft_beverage  \n",
       "1  medium activity    family      young    low_income  soft_beverage  \n",
       "2  medium activity    family      young    low_income  soft_beverage  \n",
       "3  medium activity    family      young    low_income  soft_beverage  \n",
       "4  medium activity    family      young    low_income  soft_beverage  \n",
       "\n",
       "[5 rows x 33 columns]"
      ]
     },
     "execution_count": 44,
     "metadata": {},
     "output_type": "execute_result"
    }
   ],
   "source": [
    "ords_prods_custmrs_merged.head()"
   ]
  },
  {
   "cell_type": "markdown",
   "id": "019acf09",
   "metadata": {},
   "source": [
    "### Subtask 6 - Creating visualization for new profiles"
   ]
  },
  {
   "cell_type": "code",
   "execution_count": 46,
   "id": "41342f4f",
   "metadata": {},
   "outputs": [
    {
     "data": {
      "text/plain": [
       "<AxesSubplot:>"
      ]
     },
     "execution_count": 46,
     "metadata": {},
     "output_type": "execute_result"
    },
    {
     "data": {
      "image/png": "[encoded data removed]",
      "text/plain": [
       "<Figure size 432x288 with 1 Axes>"
      ]
     },
     "metadata": {
      "needs_background": "light"
     },
     "output_type": "display_data"
    }
   ],
   "source": [
    "# create a visualization of family composition\n",
    "ords_prods_custmrs_merged['fam_range'].value_counts().plot.bar()"
   ]
  },
  {
   "cell_type": "code",
   "execution_count": 47,
   "id": "1109e562",
   "metadata": {
    "scrolled": true
   },
   "outputs": [
    {
     "data": {
      "text/plain": [
       "<AxesSubplot:>"
      ]
     },
     "execution_count": 47,
     "metadata": {},
     "output_type": "execute_result"
    },
    {
     "data": {
      "image/png": "[encoded data removed]",
      "text/plain": [
       "<Figure size 432x288 with 1 Axes>"
      ]
     },
     "metadata": {
      "needs_background": "light"
     },
     "output_type": "display_data"
    }
   ],
   "source": [
    "# create a visualization of age range\n",
    "ords_prods_custmrs_merged['age_range'].value_counts().plot.bar()"
   ]
  },
  {
   "cell_type": "code",
   "execution_count": 48,
   "id": "496f4417",
   "metadata": {},
   "outputs": [
    {
     "data": {
      "text/plain": [
       "<AxesSubplot:>"
      ]
     },
     "execution_count": 48,
     "metadata": {},
     "output_type": "execute_result"
    },
    {
     "data": {
      "image/png": "[encoded data removed]",
      "text/plain": [
       "<Figure size 432x288 with 1 Axes>"
      ]
     },
     "metadata": {
      "needs_background": "light"
     },
     "output_type": "display_data"
    }
   ],
   "source": [
    "# create a visualization of age range\n",
    "ords_prods_custmrs_merged['income_range'].value_counts().plot.bar()"
   ]
  },
  {
   "cell_type": "code",
   "execution_count": 45,
   "id": "aa2cd749",
   "metadata": {},
   "outputs": [
    {
     "data": {
      "text/plain": [
       "<AxesSubplot:>"
      ]
     },
     "execution_count": 45,
     "metadata": {},
     "output_type": "execute_result"
    },
    {
     "data": {
      "image/png": "[encoded data removed]",
      "text/plain": [
       "<Figure size 432x288 with 1 Axes>"
      ]
     },
     "metadata": {
      "needs_background": "light"
     },
     "output_type": "display_data"
    }
   ],
   "source": [
    "# create a visualization of the beverage consumption\n",
    "ords_prods_custmrs_merged['beverage_flag'].value_counts().plot.bar()"
   ]
  },
  {
   "cell_type": "markdown",
   "id": "4e678d27",
   "metadata": {},
   "source": [
    "### Subtask 7 - Aggregating mean, min, max for new profiles"
   ]
  },
  {
   "cell_type": "code",
   "execution_count": 50,
   "id": "d32d7166",
   "metadata": {},
   "outputs": [
    {
     "data": {
      "text/html": [
       "<div>\n",
       "<style scoped>\n",
       "    .dataframe tbody tr th:only-of-type {\n",
       "        vertical-align: middle;\n",
       "    }\n",
       "\n",
       "    .dataframe tbody tr th {\n",
       "        vertical-align: top;\n",
       "    }\n",
       "\n",
       "    .dataframe thead tr th {\n",
       "        text-align: left;\n",
       "    }\n",
       "\n",
       "    .dataframe thead tr:last-of-type th {\n",
       "        text-align: right;\n",
       "    }\n",
       "</style>\n",
       "<table border=\"1\" class=\"dataframe\">\n",
       "  <thead>\n",
       "    <tr>\n",
       "      <th></th>\n",
       "      <th colspan=\"3\" halign=\"left\">income</th>\n",
       "    </tr>\n",
       "    <tr>\n",
       "      <th></th>\n",
       "      <th>mean</th>\n",
       "      <th>min</th>\n",
       "      <th>max</th>\n",
       "    </tr>\n",
       "    <tr>\n",
       "      <th>fam_range</th>\n",
       "      <th></th>\n",
       "      <th></th>\n",
       "      <th></th>\n",
       "    </tr>\n",
       "  </thead>\n",
       "  <tbody>\n",
       "    <tr>\n",
       "      <th>family</th>\n",
       "      <td>99599.122688</td>\n",
       "      <td>25911</td>\n",
       "      <td>593901</td>\n",
       "    </tr>\n",
       "    <tr>\n",
       "      <th>single</th>\n",
       "      <td>99895.555355</td>\n",
       "      <td>25903</td>\n",
       "      <td>584097</td>\n",
       "    </tr>\n",
       "  </tbody>\n",
       "</table>\n",
       "</div>"
      ],
      "text/plain": [
       "                 income               \n",
       "                   mean    min     max\n",
       "fam_range                             \n",
       "family     99599.122688  25911  593901\n",
       "single     99895.555355  25903  584097"
      ]
     },
     "execution_count": 50,
     "metadata": {},
     "output_type": "execute_result"
    }
   ],
   "source": [
    "# aggregate the max, min, mean for fam_range\n",
    "ords_prods_custmrs_merged.groupby('fam_range').agg({'income':['mean', 'min', 'max']})"
   ]
  },
  {
   "cell_type": "code",
   "execution_count": 51,
   "id": "9cc595f4",
   "metadata": {},
   "outputs": [
    {
     "data": {
      "text/html": [
       "<div>\n",
       "<style scoped>\n",
       "    .dataframe tbody tr th:only-of-type {\n",
       "        vertical-align: middle;\n",
       "    }\n",
       "\n",
       "    .dataframe tbody tr th {\n",
       "        vertical-align: top;\n",
       "    }\n",
       "\n",
       "    .dataframe thead tr th {\n",
       "        text-align: left;\n",
       "    }\n",
       "\n",
       "    .dataframe thead tr:last-of-type th {\n",
       "        text-align: right;\n",
       "    }\n",
       "</style>\n",
       "<table border=\"1\" class=\"dataframe\">\n",
       "  <thead>\n",
       "    <tr>\n",
       "      <th></th>\n",
       "      <th colspan=\"3\" halign=\"left\">income</th>\n",
       "    </tr>\n",
       "    <tr>\n",
       "      <th></th>\n",
       "      <th>mean</th>\n",
       "      <th>min</th>\n",
       "      <th>max</th>\n",
       "    </tr>\n",
       "    <tr>\n",
       "      <th>age_range</th>\n",
       "      <th></th>\n",
       "      <th></th>\n",
       "      <th></th>\n",
       "    </tr>\n",
       "  </thead>\n",
       "  <tbody>\n",
       "    <tr>\n",
       "      <th>adult</th>\n",
       "      <td>108579.601261</td>\n",
       "      <td>25903</td>\n",
       "      <td>592409</td>\n",
       "    </tr>\n",
       "    <tr>\n",
       "      <th>mature</th>\n",
       "      <td>115797.036966</td>\n",
       "      <td>29001</td>\n",
       "      <td>593901</td>\n",
       "    </tr>\n",
       "    <tr>\n",
       "      <th>young</th>\n",
       "      <td>70636.691160</td>\n",
       "      <td>25911</td>\n",
       "      <td>396364</td>\n",
       "    </tr>\n",
       "  </tbody>\n",
       "</table>\n",
       "</div>"
      ],
      "text/plain": [
       "                  income               \n",
       "                    mean    min     max\n",
       "age_range                              \n",
       "adult      108579.601261  25903  592409\n",
       "mature     115797.036966  29001  593901\n",
       "young       70636.691160  25911  396364"
      ]
     },
     "execution_count": 51,
     "metadata": {},
     "output_type": "execute_result"
    }
   ],
   "source": [
    "# aggregate the max, min, mean for age_range\n",
    "ords_prods_custmrs_merged.groupby('age_range').agg({'income':['mean', 'min', 'max']})"
   ]
  },
  {
   "cell_type": "code",
   "execution_count": 54,
   "id": "4a4fef03",
   "metadata": {},
   "outputs": [
    {
     "data": {
      "text/html": [
       "<div>\n",
       "<style scoped>\n",
       "    .dataframe tbody tr th:only-of-type {\n",
       "        vertical-align: middle;\n",
       "    }\n",
       "\n",
       "    .dataframe tbody tr th {\n",
       "        vertical-align: top;\n",
       "    }\n",
       "\n",
       "    .dataframe thead tr th {\n",
       "        text-align: left;\n",
       "    }\n",
       "\n",
       "    .dataframe thead tr:last-of-type th {\n",
       "        text-align: right;\n",
       "    }\n",
       "</style>\n",
       "<table border=\"1\" class=\"dataframe\">\n",
       "  <thead>\n",
       "    <tr>\n",
       "      <th></th>\n",
       "      <th colspan=\"3\" halign=\"left\">prices</th>\n",
       "    </tr>\n",
       "    <tr>\n",
       "      <th></th>\n",
       "      <th>mean</th>\n",
       "      <th>min</th>\n",
       "      <th>max</th>\n",
       "    </tr>\n",
       "    <tr>\n",
       "      <th>income_range</th>\n",
       "      <th></th>\n",
       "      <th></th>\n",
       "      <th></th>\n",
       "    </tr>\n",
       "  </thead>\n",
       "  <tbody>\n",
       "    <tr>\n",
       "      <th>high_income</th>\n",
       "      <td>20.041344</td>\n",
       "      <td>1.0</td>\n",
       "      <td>99999.0</td>\n",
       "    </tr>\n",
       "    <tr>\n",
       "      <th>low_income</th>\n",
       "      <td>7.096536</td>\n",
       "      <td>1.0</td>\n",
       "      <td>14900.0</td>\n",
       "    </tr>\n",
       "    <tr>\n",
       "      <th>med_income</th>\n",
       "      <td>9.035258</td>\n",
       "      <td>1.0</td>\n",
       "      <td>99999.0</td>\n",
       "    </tr>\n",
       "  </tbody>\n",
       "</table>\n",
       "</div>"
      ],
      "text/plain": [
       "                 prices              \n",
       "                   mean  min      max\n",
       "income_range                         \n",
       "high_income   20.041344  1.0  99999.0\n",
       "low_income     7.096536  1.0  14900.0\n",
       "med_income     9.035258  1.0  99999.0"
      ]
     },
     "execution_count": 54,
     "metadata": {},
     "output_type": "execute_result"
    }
   ],
   "source": [
    "# aggregate the max, min, mean for income_range\n",
    "ords_prods_custmrs_merged.groupby('income_range').agg({'prices':['mean', 'min', 'max']})"
   ]
  },
  {
   "cell_type": "code",
   "execution_count": 56,
   "id": "266dada4",
   "metadata": {},
   "outputs": [
    {
     "data": {
      "text/html": [
       "<div>\n",
       "<style scoped>\n",
       "    .dataframe tbody tr th:only-of-type {\n",
       "        vertical-align: middle;\n",
       "    }\n",
       "\n",
       "    .dataframe tbody tr th {\n",
       "        vertical-align: top;\n",
       "    }\n",
       "\n",
       "    .dataframe thead tr th {\n",
       "        text-align: left;\n",
       "    }\n",
       "\n",
       "    .dataframe thead tr:last-of-type th {\n",
       "        text-align: right;\n",
       "    }\n",
       "</style>\n",
       "<table border=\"1\" class=\"dataframe\">\n",
       "  <thead>\n",
       "    <tr>\n",
       "      <th></th>\n",
       "      <th colspan=\"3\" halign=\"left\">customer_activity</th>\n",
       "    </tr>\n",
       "    <tr>\n",
       "      <th></th>\n",
       "      <th>mean</th>\n",
       "      <th>min</th>\n",
       "      <th>max</th>\n",
       "    </tr>\n",
       "    <tr>\n",
       "      <th>income_range</th>\n",
       "      <th></th>\n",
       "      <th></th>\n",
       "      <th></th>\n",
       "    </tr>\n",
       "  </thead>\n",
       "  <tbody>\n",
       "    <tr>\n",
       "      <th>high_income</th>\n",
       "      <td>34.622819</td>\n",
       "      <td>5</td>\n",
       "      <td>99</td>\n",
       "    </tr>\n",
       "    <tr>\n",
       "      <th>low_income</th>\n",
       "      <td>33.232803</td>\n",
       "      <td>5</td>\n",
       "      <td>99</td>\n",
       "    </tr>\n",
       "    <tr>\n",
       "      <th>med_income</th>\n",
       "      <td>34.745561</td>\n",
       "      <td>5</td>\n",
       "      <td>99</td>\n",
       "    </tr>\n",
       "  </tbody>\n",
       "</table>\n",
       "</div>"
      ],
      "text/plain": [
       "             customer_activity        \n",
       "                          mean min max\n",
       "income_range                          \n",
       "high_income          34.622819   5  99\n",
       "low_income           33.232803   5  99\n",
       "med_income           34.745561   5  99"
      ]
     },
     "execution_count": 56,
     "metadata": {},
     "output_type": "execute_result"
    }
   ],
   "source": [
    "# aggregate the max, min, mean for income_range\n",
    "ords_prods_custmrs_merged.groupby('income_range').agg({'customer_activity':['mean', 'min', 'max']})"
   ]
  },
  {
   "cell_type": "code",
   "execution_count": 53,
   "id": "f9e7ee78",
   "metadata": {},
   "outputs": [
    {
     "data": {
      "text/html": [
       "<div>\n",
       "<style scoped>\n",
       "    .dataframe tbody tr th:only-of-type {\n",
       "        vertical-align: middle;\n",
       "    }\n",
       "\n",
       "    .dataframe tbody tr th {\n",
       "        vertical-align: top;\n",
       "    }\n",
       "\n",
       "    .dataframe thead tr th {\n",
       "        text-align: left;\n",
       "    }\n",
       "\n",
       "    .dataframe thead tr:last-of-type th {\n",
       "        text-align: right;\n",
       "    }\n",
       "</style>\n",
       "<table border=\"1\" class=\"dataframe\">\n",
       "  <thead>\n",
       "    <tr>\n",
       "      <th></th>\n",
       "      <th colspan=\"3\" halign=\"left\">prices</th>\n",
       "    </tr>\n",
       "    <tr>\n",
       "      <th></th>\n",
       "      <th>mean</th>\n",
       "      <th>min</th>\n",
       "      <th>max</th>\n",
       "    </tr>\n",
       "    <tr>\n",
       "      <th>beverage_flag</th>\n",
       "      <th></th>\n",
       "      <th></th>\n",
       "      <th></th>\n",
       "    </tr>\n",
       "  </thead>\n",
       "  <tbody>\n",
       "    <tr>\n",
       "      <th>alc_beverage</th>\n",
       "      <td>8.151446</td>\n",
       "      <td>1.0</td>\n",
       "      <td>15.0</td>\n",
       "    </tr>\n",
       "    <tr>\n",
       "      <th>no_beverage</th>\n",
       "      <td>12.340582</td>\n",
       "      <td>1.0</td>\n",
       "      <td>99999.0</td>\n",
       "    </tr>\n",
       "    <tr>\n",
       "      <th>soft_beverage</th>\n",
       "      <td>7.682624</td>\n",
       "      <td>1.0</td>\n",
       "      <td>15.0</td>\n",
       "    </tr>\n",
       "  </tbody>\n",
       "</table>\n",
       "</div>"
      ],
      "text/plain": [
       "                  prices              \n",
       "                    mean  min      max\n",
       "beverage_flag                         \n",
       "alc_beverage    8.151446  1.0     15.0\n",
       "no_beverage    12.340582  1.0  99999.0\n",
       "soft_beverage   7.682624  1.0     15.0"
      ]
     },
     "execution_count": 53,
     "metadata": {},
     "output_type": "execute_result"
    }
   ],
   "source": [
    "# aggregate the max, min, mean for beverage_flag\n",
    "ords_prods_custmrs_merged.groupby('beverage_flag').agg({'prices':['mean', 'min', 'max']})"
   ]
  },
  {
   "cell_type": "markdown",
   "id": "5b81e046",
   "metadata": {},
   "source": [
    "### Subtask 8 - Comparing new profiles with regions and departments"
   ]
  },
  {
   "cell_type": "code",
   "execution_count": 108,
   "id": "248fe6d1",
   "metadata": {},
   "outputs": [],
   "source": [
    "# compare mean_income among us_region\n",
    "income_region_profile = ords_prods_custmrs_merged.groupby('us_region').agg({'income':['mean']})"
   ]
  },
  {
   "cell_type": "code",
   "execution_count": 87,
   "id": "af15a7f2",
   "metadata": {
    "scrolled": true
   },
   "outputs": [
    {
     "data": {
      "text/html": [
       "<div>\n",
       "<style scoped>\n",
       "    .dataframe tbody tr th:only-of-type {\n",
       "        vertical-align: middle;\n",
       "    }\n",
       "\n",
       "    .dataframe tbody tr th {\n",
       "        vertical-align: top;\n",
       "    }\n",
       "\n",
       "    .dataframe thead tr th {\n",
       "        text-align: left;\n",
       "    }\n",
       "\n",
       "    .dataframe thead tr:last-of-type th {\n",
       "        text-align: right;\n",
       "    }\n",
       "</style>\n",
       "<table border=\"1\" class=\"dataframe\">\n",
       "  <thead>\n",
       "    <tr>\n",
       "      <th></th>\n",
       "      <th>income</th>\n",
       "    </tr>\n",
       "    <tr>\n",
       "      <th></th>\n",
       "      <th>mean</th>\n",
       "    </tr>\n",
       "    <tr>\n",
       "      <th>us_region</th>\n",
       "      <th></th>\n",
       "    </tr>\n",
       "  </thead>\n",
       "  <tbody>\n",
       "    <tr>\n",
       "      <th>Midwest</th>\n",
       "      <td>100378.166715</td>\n",
       "    </tr>\n",
       "    <tr>\n",
       "      <th>Northeast</th>\n",
       "      <td>99744.004318</td>\n",
       "    </tr>\n",
       "    <tr>\n",
       "      <th>South</th>\n",
       "      <td>99239.179617</td>\n",
       "    </tr>\n",
       "    <tr>\n",
       "      <th>West</th>\n",
       "      <td>99543.274427</td>\n",
       "    </tr>\n",
       "  </tbody>\n",
       "</table>\n",
       "</div>"
      ],
      "text/plain": [
       "                  income\n",
       "                    mean\n",
       "us_region               \n",
       "Midwest    100378.166715\n",
       "Northeast   99744.004318\n",
       "South       99239.179617\n",
       "West        99543.274427"
      ]
     },
     "execution_count": 87,
     "metadata": {},
     "output_type": "execute_result"
    }
   ],
   "source": [
    "income_region_profile"
   ]
  },
  {
   "cell_type": "code",
   "execution_count": 111,
   "id": "4007e278",
   "metadata": {},
   "outputs": [
    {
     "data": {
      "text/html": [
       "<div>\n",
       "<style scoped>\n",
       "    .dataframe tbody tr th:only-of-type {\n",
       "        vertical-align: middle;\n",
       "    }\n",
       "\n",
       "    .dataframe tbody tr th {\n",
       "        vertical-align: top;\n",
       "    }\n",
       "\n",
       "    .dataframe thead th {\n",
       "        text-align: right;\n",
       "    }\n",
       "</style>\n",
       "<table border=\"1\" class=\"dataframe\">\n",
       "  <thead>\n",
       "    <tr style=\"text-align: right;\">\n",
       "      <th>income_range</th>\n",
       "      <th>high_income</th>\n",
       "      <th>low_income</th>\n",
       "      <th>med_income</th>\n",
       "    </tr>\n",
       "    <tr>\n",
       "      <th>us_region</th>\n",
       "      <th></th>\n",
       "      <th></th>\n",
       "      <th></th>\n",
       "    </tr>\n",
       "  </thead>\n",
       "  <tbody>\n",
       "    <tr>\n",
       "      <th>Midwest</th>\n",
       "      <td>2190667</td>\n",
       "      <td>1342352</td>\n",
       "      <td>3734688</td>\n",
       "    </tr>\n",
       "    <tr>\n",
       "      <th>Northeast</th>\n",
       "      <td>1630519</td>\n",
       "      <td>1021145</td>\n",
       "      <td>2818404</td>\n",
       "    </tr>\n",
       "    <tr>\n",
       "      <th>South</th>\n",
       "      <td>3025895</td>\n",
       "      <td>1968686</td>\n",
       "      <td>5325881</td>\n",
       "    </tr>\n",
       "    <tr>\n",
       "      <th>West</th>\n",
       "      <td>2340282</td>\n",
       "      <td>1476872</td>\n",
       "      <td>4117273</td>\n",
       "    </tr>\n",
       "  </tbody>\n",
       "</table>\n",
       "</div>"
      ],
      "text/plain": [
       "income_range  high_income  low_income  med_income\n",
       "us_region                                        \n",
       "Midwest           2190667     1342352     3734688\n",
       "Northeast         1630519     1021145     2818404\n",
       "South             3025895     1968686     5325881\n",
       "West              2340282     1476872     4117273"
      ]
     },
     "execution_count": 111,
     "metadata": {},
     "output_type": "execute_result"
    }
   ],
   "source": [
    "# crosstab income_region\n",
    "crosstab_income_region=pd.crosstab(ords_prods_custmrs_merged['us_region'],ords_prods_custmrs_merged['income_range'], dropna=False )\n",
    "crosstab_income_region"
   ]
  },
  {
   "cell_type": "code",
   "execution_count": 88,
   "id": "248d1bf9",
   "metadata": {},
   "outputs": [],
   "source": [
    "# compare income mean among fam_range\n",
    "income_family_profile = ords_prods_custmrs_merged.groupby('fam_range').agg({'income':['mean']})"
   ]
  },
  {
   "cell_type": "code",
   "execution_count": 91,
   "id": "c5f17f97",
   "metadata": {
    "scrolled": false
   },
   "outputs": [
    {
     "data": {
      "text/html": [
       "<div>\n",
       "<style scoped>\n",
       "    .dataframe tbody tr th:only-of-type {\n",
       "        vertical-align: middle;\n",
       "    }\n",
       "\n",
       "    .dataframe tbody tr th {\n",
       "        vertical-align: top;\n",
       "    }\n",
       "\n",
       "    .dataframe thead tr th {\n",
       "        text-align: left;\n",
       "    }\n",
       "\n",
       "    .dataframe thead tr:last-of-type th {\n",
       "        text-align: right;\n",
       "    }\n",
       "</style>\n",
       "<table border=\"1\" class=\"dataframe\">\n",
       "  <thead>\n",
       "    <tr>\n",
       "      <th></th>\n",
       "      <th>income</th>\n",
       "    </tr>\n",
       "    <tr>\n",
       "      <th></th>\n",
       "      <th>mean</th>\n",
       "    </tr>\n",
       "    <tr>\n",
       "      <th>fam_range</th>\n",
       "      <th></th>\n",
       "    </tr>\n",
       "  </thead>\n",
       "  <tbody>\n",
       "    <tr>\n",
       "      <th>family</th>\n",
       "      <td>99599.122688</td>\n",
       "    </tr>\n",
       "    <tr>\n",
       "      <th>single</th>\n",
       "      <td>99895.555355</td>\n",
       "    </tr>\n",
       "  </tbody>\n",
       "</table>\n",
       "</div>"
      ],
      "text/plain": [
       "                 income\n",
       "                   mean\n",
       "fam_range              \n",
       "family     99599.122688\n",
       "single     99895.555355"
      ]
     },
     "execution_count": 91,
     "metadata": {},
     "output_type": "execute_result"
    }
   ],
   "source": [
    "income_family_profile"
   ]
  },
  {
   "cell_type": "code",
   "execution_count": 93,
   "id": "765c99f3",
   "metadata": {},
   "outputs": [],
   "source": [
    "# beverage region profile\n",
    "beverage_region_profile = ords_prods_custmrs_merged.groupby(['beverage_flag','us_region']).agg({'prices':['mean']})"
   ]
  },
  {
   "cell_type": "code",
   "execution_count": 101,
   "id": "7c1e3bfd",
   "metadata": {
    "scrolled": true
   },
   "outputs": [
    {
     "data": {
      "text/html": [
       "<div>\n",
       "<style scoped>\n",
       "    .dataframe tbody tr th:only-of-type {\n",
       "        vertical-align: middle;\n",
       "    }\n",
       "\n",
       "    .dataframe tbody tr th {\n",
       "        vertical-align: top;\n",
       "    }\n",
       "\n",
       "    .dataframe thead tr th {\n",
       "        text-align: left;\n",
       "    }\n",
       "\n",
       "    .dataframe thead tr:last-of-type th {\n",
       "        text-align: right;\n",
       "    }\n",
       "</style>\n",
       "<table border=\"1\" class=\"dataframe\">\n",
       "  <thead>\n",
       "    <tr>\n",
       "      <th></th>\n",
       "      <th></th>\n",
       "      <th>prices</th>\n",
       "    </tr>\n",
       "    <tr>\n",
       "      <th></th>\n",
       "      <th></th>\n",
       "      <th>mean</th>\n",
       "    </tr>\n",
       "    <tr>\n",
       "      <th>beverage_flag</th>\n",
       "      <th>us_region</th>\n",
       "      <th></th>\n",
       "    </tr>\n",
       "  </thead>\n",
       "  <tbody>\n",
       "    <tr>\n",
       "      <th rowspan=\"4\" valign=\"top\">alc_beverage</th>\n",
       "      <th>Midwest</th>\n",
       "      <td>8.132588</td>\n",
       "    </tr>\n",
       "    <tr>\n",
       "      <th>Northeast</th>\n",
       "      <td>8.050052</td>\n",
       "    </tr>\n",
       "    <tr>\n",
       "      <th>South</th>\n",
       "      <td>8.179028</td>\n",
       "    </tr>\n",
       "    <tr>\n",
       "      <th>West</th>\n",
       "      <td>8.201325</td>\n",
       "    </tr>\n",
       "    <tr>\n",
       "      <th rowspan=\"4\" valign=\"top\">no_beverage</th>\n",
       "      <th>Midwest</th>\n",
       "      <td>13.156609</td>\n",
       "    </tr>\n",
       "    <tr>\n",
       "      <th>Northeast</th>\n",
       "      <td>11.920070</td>\n",
       "    </tr>\n",
       "    <tr>\n",
       "      <th>South</th>\n",
       "      <td>12.544494</td>\n",
       "    </tr>\n",
       "    <tr>\n",
       "      <th>West</th>\n",
       "      <td>11.617766</td>\n",
       "    </tr>\n",
       "    <tr>\n",
       "      <th rowspan=\"4\" valign=\"top\">soft_beverage</th>\n",
       "      <th>Midwest</th>\n",
       "      <td>7.685251</td>\n",
       "    </tr>\n",
       "    <tr>\n",
       "      <th>Northeast</th>\n",
       "      <td>7.685703</td>\n",
       "    </tr>\n",
       "    <tr>\n",
       "      <th>South</th>\n",
       "      <td>7.690308</td>\n",
       "    </tr>\n",
       "    <tr>\n",
       "      <th>West</th>\n",
       "      <td>7.667864</td>\n",
       "    </tr>\n",
       "  </tbody>\n",
       "</table>\n",
       "</div>"
      ],
      "text/plain": [
       "                            prices\n",
       "                              mean\n",
       "beverage_flag us_region           \n",
       "alc_beverage  Midwest     8.132588\n",
       "              Northeast   8.050052\n",
       "              South       8.179028\n",
       "              West        8.201325\n",
       "no_beverage   Midwest    13.156609\n",
       "              Northeast  11.920070\n",
       "              South      12.544494\n",
       "              West       11.617766\n",
       "soft_beverage Midwest     7.685251\n",
       "              Northeast   7.685703\n",
       "              South       7.690308\n",
       "              West        7.667864"
      ]
     },
     "execution_count": 101,
     "metadata": {},
     "output_type": "execute_result"
    }
   ],
   "source": [
    "beverage_region_profile"
   ]
  },
  {
   "cell_type": "code",
   "execution_count": 105,
   "id": "b8078fe0",
   "metadata": {},
   "outputs": [
    {
     "data": {
      "text/html": [
       "<div>\n",
       "<style scoped>\n",
       "    .dataframe tbody tr th:only-of-type {\n",
       "        vertical-align: middle;\n",
       "    }\n",
       "\n",
       "    .dataframe tbody tr th {\n",
       "        vertical-align: top;\n",
       "    }\n",
       "\n",
       "    .dataframe thead th {\n",
       "        text-align: right;\n",
       "    }\n",
       "</style>\n",
       "<table border=\"1\" class=\"dataframe\">\n",
       "  <thead>\n",
       "    <tr style=\"text-align: right;\">\n",
       "      <th>beverage_flag</th>\n",
       "      <th>alc_beverage</th>\n",
       "      <th>no_beverage</th>\n",
       "      <th>soft_beverage</th>\n",
       "    </tr>\n",
       "    <tr>\n",
       "      <th>us_region</th>\n",
       "      <th></th>\n",
       "      <th></th>\n",
       "      <th></th>\n",
       "    </tr>\n",
       "  </thead>\n",
       "  <tbody>\n",
       "    <tr>\n",
       "      <th>Midwest</th>\n",
       "      <td>34052</td>\n",
       "      <td>6634665</td>\n",
       "      <td>598990</td>\n",
       "    </tr>\n",
       "    <tr>\n",
       "      <th>Northeast</th>\n",
       "      <td>25034</td>\n",
       "      <td>4982103</td>\n",
       "      <td>462931</td>\n",
       "    </tr>\n",
       "    <tr>\n",
       "      <th>South</th>\n",
       "      <td>48822</td>\n",
       "      <td>9412205</td>\n",
       "      <td>859435</td>\n",
       "    </tr>\n",
       "    <tr>\n",
       "      <th>West</th>\n",
       "      <td>36766</td>\n",
       "      <td>7247083</td>\n",
       "      <td>650578</td>\n",
       "    </tr>\n",
       "  </tbody>\n",
       "</table>\n",
       "</div>"
      ],
      "text/plain": [
       "beverage_flag  alc_beverage  no_beverage  soft_beverage\n",
       "us_region                                              \n",
       "Midwest               34052      6634665         598990\n",
       "Northeast             25034      4982103         462931\n",
       "South                 48822      9412205         859435\n",
       "West                  36766      7247083         650578"
      ]
     },
     "execution_count": 105,
     "metadata": {},
     "output_type": "execute_result"
    }
   ],
   "source": [
    "# crosstab beverage_region\n",
    "crosstab_beverage_region_profile = pd.crosstab(ords_prods_custmrs_merged['us_region'],ords_prods_custmrs_merged['beverage_flag'], dropna=False )\n",
    "crosstab_beverage_region_profile"
   ]
  },
  {
   "cell_type": "code",
   "execution_count": 114,
   "id": "6a75ee73",
   "metadata": {
    "scrolled": true
   },
   "outputs": [
    {
     "data": {
      "text/html": [
       "<div>\n",
       "<style scoped>\n",
       "    .dataframe tbody tr th:only-of-type {\n",
       "        vertical-align: middle;\n",
       "    }\n",
       "\n",
       "    .dataframe tbody tr th {\n",
       "        vertical-align: top;\n",
       "    }\n",
       "\n",
       "    .dataframe thead th {\n",
       "        text-align: right;\n",
       "    }\n",
       "</style>\n",
       "<table border=\"1\" class=\"dataframe\">\n",
       "  <thead>\n",
       "    <tr style=\"text-align: right;\">\n",
       "      <th>age_range</th>\n",
       "      <th>adult</th>\n",
       "      <th>mature</th>\n",
       "      <th>young</th>\n",
       "    </tr>\n",
       "    <tr>\n",
       "      <th>us_region</th>\n",
       "      <th></th>\n",
       "      <th></th>\n",
       "      <th></th>\n",
       "    </tr>\n",
       "  </thead>\n",
       "  <tbody>\n",
       "    <tr>\n",
       "      <th>Midwest</th>\n",
       "      <td>3446542</td>\n",
       "      <td>1800968</td>\n",
       "      <td>2020197</td>\n",
       "    </tr>\n",
       "    <tr>\n",
       "      <th>Northeast</th>\n",
       "      <td>2521117</td>\n",
       "      <td>1395878</td>\n",
       "      <td>1553073</td>\n",
       "    </tr>\n",
       "    <tr>\n",
       "      <th>South</th>\n",
       "      <td>4816090</td>\n",
       "      <td>2551237</td>\n",
       "      <td>2953135</td>\n",
       "    </tr>\n",
       "    <tr>\n",
       "      <th>West</th>\n",
       "      <td>3724517</td>\n",
       "      <td>1989536</td>\n",
       "      <td>2220374</td>\n",
       "    </tr>\n",
       "  </tbody>\n",
       "</table>\n",
       "</div>"
      ],
      "text/plain": [
       "age_range    adult   mature    young\n",
       "us_region                           \n",
       "Midwest    3446542  1800968  2020197\n",
       "Northeast  2521117  1395878  1553073\n",
       "South      4816090  2551237  2953135\n",
       "West       3724517  1989536  2220374"
      ]
     },
     "execution_count": 114,
     "metadata": {},
     "output_type": "execute_result"
    }
   ],
   "source": [
    "# crosstab age_region\n",
    "crosstab_age_region_profile = pd.crosstab(ords_prods_custmrs_merged['us_region'],ords_prods_custmrs_merged['age_range'], dropna=False )\n",
    "crosstab_age_region_profile"
   ]
  },
  {
   "cell_type": "code",
   "execution_count": 117,
   "id": "f355a79b",
   "metadata": {},
   "outputs": [
    {
     "data": {
      "text/html": [
       "<div>\n",
       "<style scoped>\n",
       "    .dataframe tbody tr th:only-of-type {\n",
       "        vertical-align: middle;\n",
       "    }\n",
       "\n",
       "    .dataframe tbody tr th {\n",
       "        vertical-align: top;\n",
       "    }\n",
       "\n",
       "    .dataframe thead th {\n",
       "        text-align: right;\n",
       "    }\n",
       "</style>\n",
       "<table border=\"1\" class=\"dataframe\">\n",
       "  <thead>\n",
       "    <tr style=\"text-align: right;\">\n",
       "      <th>fam_range</th>\n",
       "      <th>family</th>\n",
       "      <th>single</th>\n",
       "    </tr>\n",
       "    <tr>\n",
       "      <th>us_region</th>\n",
       "      <th></th>\n",
       "      <th></th>\n",
       "    </tr>\n",
       "  </thead>\n",
       "  <tbody>\n",
       "    <tr>\n",
       "      <th>Midwest</th>\n",
       "      <td>5443220</td>\n",
       "      <td>1824487</td>\n",
       "    </tr>\n",
       "    <tr>\n",
       "      <th>Northeast</th>\n",
       "      <td>4114240</td>\n",
       "      <td>1355828</td>\n",
       "    </tr>\n",
       "    <tr>\n",
       "      <th>South</th>\n",
       "      <td>7736110</td>\n",
       "      <td>2584352</td>\n",
       "    </tr>\n",
       "    <tr>\n",
       "      <th>West</th>\n",
       "      <td>5952062</td>\n",
       "      <td>1982365</td>\n",
       "    </tr>\n",
       "  </tbody>\n",
       "</table>\n",
       "</div>"
      ],
      "text/plain": [
       "fam_range   family   single\n",
       "us_region                  \n",
       "Midwest    5443220  1824487\n",
       "Northeast  4114240  1355828\n",
       "South      7736110  2584352\n",
       "West       5952062  1982365"
      ]
     },
     "execution_count": 117,
     "metadata": {},
     "output_type": "execute_result"
    }
   ],
   "source": [
    "# crosstab fam_region\n",
    "crosstab_fam_region_profile = pd.crosstab(ords_prods_custmrs_merged['us_region'],ords_prods_custmrs_merged['fam_range'], dropna=False )\n",
    "crosstab_fam_region_profile"
   ]
  },
  {
   "cell_type": "markdown",
   "id": "6cd41363",
   "metadata": {},
   "source": [
    "### Subtask 9 - Producing charts to illustrate reuslts"
   ]
  },
  {
   "cell_type": "code",
   "execution_count": 131,
   "id": "3a6cba95",
   "metadata": {
    "scrolled": true
   },
   "outputs": [
    {
     "data": {
      "text/plain": [
       "<matplotlib.legend.Legend at 0x23cda3c9e50>"
      ]
     },
     "execution_count": 131,
     "metadata": {},
     "output_type": "execute_result"
    },
    {
     "data": {
      "image/png": "[encoded data removed]",
      "text/plain": [
       "<Figure size 432x288 with 1 Axes>"
      ]
     },
     "metadata": {
      "needs_background": "light"
     },
     "output_type": "display_data"
    }
   ],
   "source": [
    "# visualization of difference in income based on us_regions\n",
    "income_region_profile = income_region_profile.plot.bar(color=['red'])\n",
    "plt.legend(title='us region income')"
   ]
  },
  {
   "cell_type": "markdown",
   "id": "5c7c2530",
   "metadata": {},
   "source": [
    "#### Midwest has a slightly higher income mean than the others us regions"
   ]
  },
  {
   "cell_type": "code",
   "execution_count": 132,
   "id": "feb7a780",
   "metadata": {},
   "outputs": [],
   "source": [
    "# saving chart\n",
    "income_region_profile.figure.savefig(os.path.join(path, '4.2 - 04 Analysis', '4.10 income_region_profile.png'))"
   ]
  },
  {
   "cell_type": "code",
   "execution_count": 133,
   "id": "ae243f9d",
   "metadata": {
    "scrolled": true
   },
   "outputs": [
    {
     "data": {
      "text/plain": [
       "<matplotlib.legend.Legend at 0x23cda454d60>"
      ]
     },
     "execution_count": 133,
     "metadata": {},
     "output_type": "execute_result"
    },
    {
     "data": {
      "image/png": "[encoded data removed]",
      "text/plain": [
       "<Figure size 432x288 with 1 Axes>"
      ]
     },
     "metadata": {
      "needs_background": "light"
     },
     "output_type": "display_data"
    }
   ],
   "source": [
    "# visualization of difference in income based on fam_range\n",
    "income_family_profile = income_family_profile.plot.bar(color=['blue'])\n",
    "plt.legend(title='family income')"
   ]
  },
  {
   "cell_type": "markdown",
   "id": "d5b99ba8",
   "metadata": {},
   "source": [
    "#### there is almost no difference in the income between family and single "
   ]
  },
  {
   "cell_type": "code",
   "execution_count": 134,
   "id": "76aefd68",
   "metadata": {},
   "outputs": [],
   "source": [
    "# saving chart\n",
    "income_family_profile.figure.savefig(os.path.join(path, '4.2 - 04 Analysis', '4.10 income_family_profile.png'))"
   ]
  },
  {
   "cell_type": "code",
   "execution_count": 135,
   "id": "21f342d1",
   "metadata": {
    "scrolled": true
   },
   "outputs": [
    {
     "data": {
      "text/plain": [
       "<matplotlib.legend.Legend at 0x23cda4c5820>"
      ]
     },
     "execution_count": 135,
     "metadata": {},
     "output_type": "execute_result"
    },
    {
     "data": {
      "image/png": "[encoded data removed]",
      "text/plain": [
       "<Figure size 432x288 with 1 Axes>"
      ]
     },
     "metadata": {
      "needs_background": "light"
     },
     "output_type": "display_data"
    }
   ],
   "source": [
    "# visualization of difference in beverage cons. based on us_region\n",
    "crosstab_beverage_region_profile = crosstab_beverage_region_profile.plot.bar(stacked= True)\n",
    "plt.legend(title='beverage')"
   ]
  },
  {
   "cell_type": "code",
   "execution_count": 136,
   "id": "5b81ed59",
   "metadata": {},
   "outputs": [],
   "source": [
    "# saving chart\n",
    "crosstab_beverage_region_profile.figure.savefig(os.path.join(path, '4.2 - 04 Analysis', '4.10 beverage_region_profile.png'))"
   ]
  },
  {
   "cell_type": "code",
   "execution_count": 137,
   "id": "5b15d6aa",
   "metadata": {},
   "outputs": [
    {
     "data": {
      "text/plain": [
       "<matplotlib.legend.Legend at 0x23cda6a85e0>"
      ]
     },
     "execution_count": 137,
     "metadata": {},
     "output_type": "execute_result"
    },
    {
     "data": {
      "image/png": "[encoded data removed]",
      "text/plain": [
       "<Figure size 432x288 with 1 Axes>"
      ]
     },
     "metadata": {
      "needs_background": "light"
     },
     "output_type": "display_data"
    }
   ],
   "source": [
    "# visualization of difference in income_range based on us_region\n",
    "crosstab_income_region = crosstab_income_region.plot.bar(stacked= True)\n",
    "plt.legend(title='income range')"
   ]
  },
  {
   "cell_type": "code",
   "execution_count": 138,
   "id": "2d11abbb",
   "metadata": {},
   "outputs": [],
   "source": [
    "# saving chart\n",
    "crosstab_income_region.figure.savefig(os.path.join(path, '4.2 - 04 Analysis', '4.10 income_region.png'))"
   ]
  },
  {
   "cell_type": "code",
   "execution_count": 139,
   "id": "0f0dd968",
   "metadata": {},
   "outputs": [
    {
     "data": {
      "text/plain": [
       "<matplotlib.legend.Legend at 0x23cda71b820>"
      ]
     },
     "execution_count": 139,
     "metadata": {},
     "output_type": "execute_result"
    },
    {
     "data": {
      "image/png": "[encoded data removed]",
      "text/plain": [
       "<Figure size 432x288 with 1 Axes>"
      ]
     },
     "metadata": {
      "needs_background": "light"
     },
     "output_type": "display_data"
    }
   ],
   "source": [
    "# visualization of difference in age_range based on us_region\n",
    "crosstab_age_region_profile = crosstab_age_region_profile.plot.bar(stacked= True)\n",
    "plt.legend(title='age range')"
   ]
  },
  {
   "cell_type": "code",
   "execution_count": 140,
   "id": "f22db686",
   "metadata": {},
   "outputs": [],
   "source": [
    "# saving chart\n",
    "crosstab_age_region_profile.figure.savefig(os.path.join(path, '4.2 - 04 Analysis', '4.10 age_region.png'))"
   ]
  },
  {
   "cell_type": "code",
   "execution_count": 141,
   "id": "59d65ea2",
   "metadata": {},
   "outputs": [
    {
     "data": {
      "text/plain": [
       "<matplotlib.legend.Legend at 0x23cda7bba00>"
      ]
     },
     "execution_count": 141,
     "metadata": {},
     "output_type": "execute_result"
    },
    {
     "data": {
      "image/png": "[encoded data removed]",
      "text/plain": [
       "<Figure size 432x288 with 1 Axes>"
      ]
     },
     "metadata": {
      "needs_background": "light"
     },
     "output_type": "display_data"
    }
   ],
   "source": [
    "# visualization of difference in fam_range based on us_region\n",
    "crosstab_fam_region_profile = crosstab_fam_region_profile.plot.bar(stacked= True)\n",
    "plt.legend(title='fam range')"
   ]
  },
  {
   "cell_type": "code",
   "execution_count": 142,
   "id": "249671a0",
   "metadata": {},
   "outputs": [],
   "source": [
    "# saving chart\n",
    "crosstab_fam_region_profile.figure.savefig(os.path.join(path, '4.2 - 04 Analysis', '4.10 fam_region.png'))"
   ]
  },
  {
   "cell_type": "code",
   "execution_count": 143,
   "id": "466d8e10",
   "metadata": {},
   "outputs": [],
   "source": [
    "ords_prods_custmrs_merged.to_csv(os.path.join(path, '4.2 - 02 Data','Prepared Data', 'ords_prods_custmrs_merge4.csv'))"
   ]
  },
  {
   "cell_type": "code",
   "execution_count": null,
   "id": "9e398d9b",
   "metadata": {},
   "outputs": [],
   "source": []
  }
 ],
 "metadata": {
  "kernelspec": {
   "display_name": "Python 3",
   "language": "python",
   "name": "python3"
  },
  "language_info": {
   "codemirror_mode": {
    "name": "ipython",
    "version": 3
   },
   "file_extension": ".py",
   "mimetype": "text/x-python",
   "name": "python",
   "nbconvert_exporter": "python",
   "pygments_lexer": "ipython3",
   "version": "3.8.8"
  }
 },
 "nbformat": 4,
 "nbformat_minor": 5
}
